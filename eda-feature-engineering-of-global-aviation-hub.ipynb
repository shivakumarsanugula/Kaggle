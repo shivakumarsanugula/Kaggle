{
 "cells": [
  {
   "cell_type": "code",
   "execution_count": 1,
   "id": "4f418380",
   "metadata": {
    "_cell_guid": "b1076dfc-b9ad-4769-8c92-a6c4dae69d19",
    "_uuid": "8f2839f25d086af736a60e9eeb907d3b93b6e0e5",
    "execution": {
     "iopub.execute_input": "2023-10-07T13:02:37.981405Z",
     "iopub.status.busy": "2023-10-07T13:02:37.980448Z",
     "iopub.status.idle": "2023-10-07T13:02:40.012658Z",
     "shell.execute_reply": "2023-10-07T13:02:40.011149Z"
    },
    "papermill": {
     "duration": 2.05588,
     "end_time": "2023-10-07T13:02:40.016339",
     "exception": false,
     "start_time": "2023-10-07T13:02:37.960459",
     "status": "completed"
    },
    "tags": []
   },
   "outputs": [
    {
     "name": "stdout",
     "output_type": "stream",
     "text": [
      "/kaggle/input/global-aviation-hub-dataset-of-airports-worldwide/airports .csv\n"
     ]
    }
   ],
   "source": [
    "# This Python 3 environment comes with many helpful analytics libraries installed\n",
    "# It is defined by the kaggle/python Docker image: https://github.com/kaggle/docker-python\n",
    "# For example, here's several helpful packages to load\n",
    "\n",
    "import numpy as np # linear algebra\n",
    "import pandas as pd # data processing, CSV file I/O (e.g. pd.read_csv)\n",
    "import matplotlib.pyplot as plt\n",
    "%matplotlib inline\n",
    "import seaborn as sns\n",
    "\n",
    "\n",
    "# Input data files are available in the read-only \"../input/\" directory\n",
    "# For example, running this (by clicking run or pressing Shift+Enter) will list all files under the input directory\n",
    "\n",
    "import os\n",
    "for dirname, _, filenames in os.walk('/kaggle/input'):\n",
    "    for filename in filenames:\n",
    "        print(os.path.join(dirname, filename))\n",
    "\n",
    "# You can write up to 20GB to the current directory (/kaggle/working/) that gets preserved as output when you create a version using \"Save & Run All\" \n",
    "# You can also write temporary files to /kaggle/temp/, but they won't be saved outside of the current session"
   ]
  },
  {
   "cell_type": "code",
   "execution_count": 2,
   "id": "b7c34e2a",
   "metadata": {
    "execution": {
     "iopub.execute_input": "2023-10-07T13:02:40.044903Z",
     "iopub.status.busy": "2023-10-07T13:02:40.044304Z",
     "iopub.status.idle": "2023-10-07T13:02:40.608772Z",
     "shell.execute_reply": "2023-10-07T13:02:40.607799Z"
    },
    "papermill": {
     "duration": 0.580891,
     "end_time": "2023-10-07T13:02:40.611093",
     "exception": false,
     "start_time": "2023-10-07T13:02:40.030202",
     "status": "completed"
    },
    "tags": []
   },
   "outputs": [],
   "source": [
    "# import the dataset\n",
    "df = pd.read_csv('/kaggle/input/global-aviation-hub-dataset-of-airports-worldwide/airports .csv')"
   ]
  },
  {
   "cell_type": "code",
   "execution_count": 3,
   "id": "43a44d0a",
   "metadata": {
    "execution": {
     "iopub.execute_input": "2023-10-07T13:02:40.638299Z",
     "iopub.status.busy": "2023-10-07T13:02:40.637348Z",
     "iopub.status.idle": "2023-10-07T13:02:40.669659Z",
     "shell.execute_reply": "2023-10-07T13:02:40.668368Z"
    },
    "papermill": {
     "duration": 0.048968,
     "end_time": "2023-10-07T13:02:40.672635",
     "exception": false,
     "start_time": "2023-10-07T13:02:40.623667",
     "status": "completed"
    },
    "tags": []
   },
   "outputs": [
    {
     "data": {
      "text/html": [
       "<div>\n",
       "<style scoped>\n",
       "    .dataframe tbody tr th:only-of-type {\n",
       "        vertical-align: middle;\n",
       "    }\n",
       "\n",
       "    .dataframe tbody tr th {\n",
       "        vertical-align: top;\n",
       "    }\n",
       "\n",
       "    .dataframe thead th {\n",
       "        text-align: right;\n",
       "    }\n",
       "</style>\n",
       "<table border=\"1\" class=\"dataframe\">\n",
       "  <thead>\n",
       "    <tr style=\"text-align: right;\">\n",
       "      <th></th>\n",
       "      <th>id</th>\n",
       "      <th>ident</th>\n",
       "      <th>type</th>\n",
       "      <th>name</th>\n",
       "      <th>latitude_deg</th>\n",
       "      <th>longitude_deg</th>\n",
       "      <th>elevation_ft</th>\n",
       "      <th>continent</th>\n",
       "      <th>iso_country</th>\n",
       "      <th>iso_region</th>\n",
       "      <th>municipality</th>\n",
       "      <th>scheduled_service</th>\n",
       "      <th>gps_code</th>\n",
       "      <th>iata_code</th>\n",
       "      <th>local_code</th>\n",
       "      <th>home_link</th>\n",
       "      <th>wikipedia_link</th>\n",
       "      <th>keywords</th>\n",
       "    </tr>\n",
       "  </thead>\n",
       "  <tbody>\n",
       "    <tr>\n",
       "      <th>0</th>\n",
       "      <td>6523</td>\n",
       "      <td>00A</td>\n",
       "      <td>heliport</td>\n",
       "      <td>Total RF Heliport</td>\n",
       "      <td>40.070985</td>\n",
       "      <td>-74.933689</td>\n",
       "      <td>11.0</td>\n",
       "      <td>NaN</td>\n",
       "      <td>US</td>\n",
       "      <td>US-PA</td>\n",
       "      <td>Bensalem</td>\n",
       "      <td>no</td>\n",
       "      <td>K00A</td>\n",
       "      <td>NaN</td>\n",
       "      <td>00A</td>\n",
       "      <td>https://www.penndot.pa.gov/TravelInPA/airports...</td>\n",
       "      <td>NaN</td>\n",
       "      <td>NaN</td>\n",
       "    </tr>\n",
       "    <tr>\n",
       "      <th>1</th>\n",
       "      <td>323361</td>\n",
       "      <td>00AA</td>\n",
       "      <td>small_airport</td>\n",
       "      <td>Aero B Ranch Airport</td>\n",
       "      <td>38.704022</td>\n",
       "      <td>-101.473911</td>\n",
       "      <td>3435.0</td>\n",
       "      <td>NaN</td>\n",
       "      <td>US</td>\n",
       "      <td>US-KS</td>\n",
       "      <td>Leoti</td>\n",
       "      <td>no</td>\n",
       "      <td>00AA</td>\n",
       "      <td>NaN</td>\n",
       "      <td>00AA</td>\n",
       "      <td>NaN</td>\n",
       "      <td>NaN</td>\n",
       "      <td>NaN</td>\n",
       "    </tr>\n",
       "    <tr>\n",
       "      <th>2</th>\n",
       "      <td>6524</td>\n",
       "      <td>00AK</td>\n",
       "      <td>small_airport</td>\n",
       "      <td>Lowell Field</td>\n",
       "      <td>59.947733</td>\n",
       "      <td>-151.692524</td>\n",
       "      <td>450.0</td>\n",
       "      <td>NaN</td>\n",
       "      <td>US</td>\n",
       "      <td>US-AK</td>\n",
       "      <td>Anchor Point</td>\n",
       "      <td>no</td>\n",
       "      <td>00AK</td>\n",
       "      <td>NaN</td>\n",
       "      <td>00AK</td>\n",
       "      <td>NaN</td>\n",
       "      <td>NaN</td>\n",
       "      <td>NaN</td>\n",
       "    </tr>\n",
       "    <tr>\n",
       "      <th>3</th>\n",
       "      <td>6525</td>\n",
       "      <td>00AL</td>\n",
       "      <td>small_airport</td>\n",
       "      <td>Epps Airpark</td>\n",
       "      <td>34.864799</td>\n",
       "      <td>-86.770302</td>\n",
       "      <td>820.0</td>\n",
       "      <td>NaN</td>\n",
       "      <td>US</td>\n",
       "      <td>US-AL</td>\n",
       "      <td>Harvest</td>\n",
       "      <td>no</td>\n",
       "      <td>00AL</td>\n",
       "      <td>NaN</td>\n",
       "      <td>00AL</td>\n",
       "      <td>NaN</td>\n",
       "      <td>NaN</td>\n",
       "      <td>NaN</td>\n",
       "    </tr>\n",
       "    <tr>\n",
       "      <th>4</th>\n",
       "      <td>506791</td>\n",
       "      <td>00AN</td>\n",
       "      <td>small_airport</td>\n",
       "      <td>Katmai Lodge Airport</td>\n",
       "      <td>59.093287</td>\n",
       "      <td>-156.456699</td>\n",
       "      <td>80.0</td>\n",
       "      <td>NaN</td>\n",
       "      <td>US</td>\n",
       "      <td>US-AK</td>\n",
       "      <td>King Salmon</td>\n",
       "      <td>no</td>\n",
       "      <td>00AN</td>\n",
       "      <td>NaN</td>\n",
       "      <td>00AN</td>\n",
       "      <td>NaN</td>\n",
       "      <td>NaN</td>\n",
       "      <td>NaN</td>\n",
       "    </tr>\n",
       "  </tbody>\n",
       "</table>\n",
       "</div>"
      ],
      "text/plain": [
       "       id ident           type                  name  latitude_deg  \\\n",
       "0    6523   00A       heliport     Total RF Heliport     40.070985   \n",
       "1  323361  00AA  small_airport  Aero B Ranch Airport     38.704022   \n",
       "2    6524  00AK  small_airport          Lowell Field     59.947733   \n",
       "3    6525  00AL  small_airport          Epps Airpark     34.864799   \n",
       "4  506791  00AN  small_airport  Katmai Lodge Airport     59.093287   \n",
       "\n",
       "   longitude_deg  elevation_ft continent iso_country iso_region  municipality  \\\n",
       "0     -74.933689          11.0       NaN          US      US-PA      Bensalem   \n",
       "1    -101.473911        3435.0       NaN          US      US-KS         Leoti   \n",
       "2    -151.692524         450.0       NaN          US      US-AK  Anchor Point   \n",
       "3     -86.770302         820.0       NaN          US      US-AL       Harvest   \n",
       "4    -156.456699          80.0       NaN          US      US-AK   King Salmon   \n",
       "\n",
       "  scheduled_service gps_code iata_code local_code  \\\n",
       "0                no     K00A       NaN        00A   \n",
       "1                no     00AA       NaN       00AA   \n",
       "2                no     00AK       NaN       00AK   \n",
       "3                no     00AL       NaN       00AL   \n",
       "4                no     00AN       NaN       00AN   \n",
       "\n",
       "                                           home_link wikipedia_link keywords  \n",
       "0  https://www.penndot.pa.gov/TravelInPA/airports...            NaN      NaN  \n",
       "1                                                NaN            NaN      NaN  \n",
       "2                                                NaN            NaN      NaN  \n",
       "3                                                NaN            NaN      NaN  \n",
       "4                                                NaN            NaN      NaN  "
      ]
     },
     "execution_count": 3,
     "metadata": {},
     "output_type": "execute_result"
    }
   ],
   "source": [
    "#show the top 5 records\n",
    "df.head()"
   ]
  },
  {
   "cell_type": "code",
   "execution_count": 4,
   "id": "1371965c",
   "metadata": {
    "execution": {
     "iopub.execute_input": "2023-10-07T13:02:40.700411Z",
     "iopub.status.busy": "2023-10-07T13:02:40.699936Z",
     "iopub.status.idle": "2023-10-07T13:02:40.997012Z",
     "shell.execute_reply": "2023-10-07T13:02:40.995824Z"
    },
    "papermill": {
     "duration": 0.314087,
     "end_time": "2023-10-07T13:02:40.999868",
     "exception": false,
     "start_time": "2023-10-07T13:02:40.685781",
     "status": "completed"
    },
    "tags": []
   },
   "outputs": [],
   "source": [
    "df = pd.read_csv('/kaggle/input/global-aviation-hub-dataset-of-airports-worldwide/airports .csv',usecols=['id','type','name','latitude_deg','longitude_deg','elevation_ft','continent','iso_country','iso_region','municipality','scheduled_service','gps_code'])\n",
    "                 "
   ]
  },
  {
   "cell_type": "code",
   "execution_count": 5,
   "id": "f526167e",
   "metadata": {
    "execution": {
     "iopub.execute_input": "2023-10-07T13:02:41.028640Z",
     "iopub.status.busy": "2023-10-07T13:02:41.028207Z",
     "iopub.status.idle": "2023-10-07T13:02:41.045746Z",
     "shell.execute_reply": "2023-10-07T13:02:41.044475Z"
    },
    "papermill": {
     "duration": 0.035541,
     "end_time": "2023-10-07T13:02:41.048228",
     "exception": false,
     "start_time": "2023-10-07T13:02:41.012687",
     "status": "completed"
    },
    "tags": []
   },
   "outputs": [
    {
     "data": {
      "text/html": [
       "<div>\n",
       "<style scoped>\n",
       "    .dataframe tbody tr th:only-of-type {\n",
       "        vertical-align: middle;\n",
       "    }\n",
       "\n",
       "    .dataframe tbody tr th {\n",
       "        vertical-align: top;\n",
       "    }\n",
       "\n",
       "    .dataframe thead th {\n",
       "        text-align: right;\n",
       "    }\n",
       "</style>\n",
       "<table border=\"1\" class=\"dataframe\">\n",
       "  <thead>\n",
       "    <tr style=\"text-align: right;\">\n",
       "      <th></th>\n",
       "      <th>id</th>\n",
       "      <th>type</th>\n",
       "      <th>name</th>\n",
       "      <th>latitude_deg</th>\n",
       "      <th>longitude_deg</th>\n",
       "      <th>elevation_ft</th>\n",
       "      <th>continent</th>\n",
       "      <th>iso_country</th>\n",
       "      <th>iso_region</th>\n",
       "      <th>municipality</th>\n",
       "      <th>scheduled_service</th>\n",
       "      <th>gps_code</th>\n",
       "    </tr>\n",
       "  </thead>\n",
       "  <tbody>\n",
       "    <tr>\n",
       "      <th>0</th>\n",
       "      <td>6523</td>\n",
       "      <td>heliport</td>\n",
       "      <td>Total RF Heliport</td>\n",
       "      <td>40.070985</td>\n",
       "      <td>-74.933689</td>\n",
       "      <td>11.0</td>\n",
       "      <td>NaN</td>\n",
       "      <td>US</td>\n",
       "      <td>US-PA</td>\n",
       "      <td>Bensalem</td>\n",
       "      <td>no</td>\n",
       "      <td>K00A</td>\n",
       "    </tr>\n",
       "    <tr>\n",
       "      <th>1</th>\n",
       "      <td>323361</td>\n",
       "      <td>small_airport</td>\n",
       "      <td>Aero B Ranch Airport</td>\n",
       "      <td>38.704022</td>\n",
       "      <td>-101.473911</td>\n",
       "      <td>3435.0</td>\n",
       "      <td>NaN</td>\n",
       "      <td>US</td>\n",
       "      <td>US-KS</td>\n",
       "      <td>Leoti</td>\n",
       "      <td>no</td>\n",
       "      <td>00AA</td>\n",
       "    </tr>\n",
       "    <tr>\n",
       "      <th>2</th>\n",
       "      <td>6524</td>\n",
       "      <td>small_airport</td>\n",
       "      <td>Lowell Field</td>\n",
       "      <td>59.947733</td>\n",
       "      <td>-151.692524</td>\n",
       "      <td>450.0</td>\n",
       "      <td>NaN</td>\n",
       "      <td>US</td>\n",
       "      <td>US-AK</td>\n",
       "      <td>Anchor Point</td>\n",
       "      <td>no</td>\n",
       "      <td>00AK</td>\n",
       "    </tr>\n",
       "    <tr>\n",
       "      <th>3</th>\n",
       "      <td>6525</td>\n",
       "      <td>small_airport</td>\n",
       "      <td>Epps Airpark</td>\n",
       "      <td>34.864799</td>\n",
       "      <td>-86.770302</td>\n",
       "      <td>820.0</td>\n",
       "      <td>NaN</td>\n",
       "      <td>US</td>\n",
       "      <td>US-AL</td>\n",
       "      <td>Harvest</td>\n",
       "      <td>no</td>\n",
       "      <td>00AL</td>\n",
       "    </tr>\n",
       "    <tr>\n",
       "      <th>4</th>\n",
       "      <td>506791</td>\n",
       "      <td>small_airport</td>\n",
       "      <td>Katmai Lodge Airport</td>\n",
       "      <td>59.093287</td>\n",
       "      <td>-156.456699</td>\n",
       "      <td>80.0</td>\n",
       "      <td>NaN</td>\n",
       "      <td>US</td>\n",
       "      <td>US-AK</td>\n",
       "      <td>King Salmon</td>\n",
       "      <td>no</td>\n",
       "      <td>00AN</td>\n",
       "    </tr>\n",
       "  </tbody>\n",
       "</table>\n",
       "</div>"
      ],
      "text/plain": [
       "       id           type                  name  latitude_deg  longitude_deg  \\\n",
       "0    6523       heliport     Total RF Heliport     40.070985     -74.933689   \n",
       "1  323361  small_airport  Aero B Ranch Airport     38.704022    -101.473911   \n",
       "2    6524  small_airport          Lowell Field     59.947733    -151.692524   \n",
       "3    6525  small_airport          Epps Airpark     34.864799     -86.770302   \n",
       "4  506791  small_airport  Katmai Lodge Airport     59.093287    -156.456699   \n",
       "\n",
       "   elevation_ft continent iso_country iso_region  municipality  \\\n",
       "0          11.0       NaN          US      US-PA      Bensalem   \n",
       "1        3435.0       NaN          US      US-KS         Leoti   \n",
       "2         450.0       NaN          US      US-AK  Anchor Point   \n",
       "3         820.0       NaN          US      US-AL       Harvest   \n",
       "4          80.0       NaN          US      US-AK   King Salmon   \n",
       "\n",
       "  scheduled_service gps_code  \n",
       "0                no     K00A  \n",
       "1                no     00AA  \n",
       "2                no     00AK  \n",
       "3                no     00AL  \n",
       "4                no     00AN  "
      ]
     },
     "execution_count": 5,
     "metadata": {},
     "output_type": "execute_result"
    }
   ],
   "source": [
    "# Lets check Top 5 Records\n",
    "df.head()"
   ]
  },
  {
   "cell_type": "code",
   "execution_count": 6,
   "id": "5aa58e1e",
   "metadata": {
    "execution": {
     "iopub.execute_input": "2023-10-07T13:02:41.076533Z",
     "iopub.status.busy": "2023-10-07T13:02:41.076157Z",
     "iopub.status.idle": "2023-10-07T13:02:41.085595Z",
     "shell.execute_reply": "2023-10-07T13:02:41.084710Z"
    },
    "papermill": {
     "duration": 0.025822,
     "end_time": "2023-10-07T13:02:41.087646",
     "exception": false,
     "start_time": "2023-10-07T13:02:41.061824",
     "status": "completed"
    },
    "tags": []
   },
   "outputs": [],
   "source": [
    "# Rename the Columns to Proper Format\n",
    "df.rename(columns={'type':'Airport_type','name':'Name','latitude_deg':'Latitude','longitude_deg':'Longitude','elevation_ft':'Elevation','continent':'Continent','iso_country':'Country','iso_region':'Region','municipality':'Municipality','scheduled_service':'Scheduled_service','gps_code':'Gps_code'},inplace=True)"
   ]
  },
  {
   "cell_type": "code",
   "execution_count": 7,
   "id": "24482b3b",
   "metadata": {
    "execution": {
     "iopub.execute_input": "2023-10-07T13:02:41.115446Z",
     "iopub.status.busy": "2023-10-07T13:02:41.115013Z",
     "iopub.status.idle": "2023-10-07T13:02:41.122510Z",
     "shell.execute_reply": "2023-10-07T13:02:41.121372Z"
    },
    "papermill": {
     "duration": 0.024243,
     "end_time": "2023-10-07T13:02:41.124759",
     "exception": false,
     "start_time": "2023-10-07T13:02:41.100516",
     "status": "completed"
    },
    "tags": []
   },
   "outputs": [
    {
     "data": {
      "text/plain": [
       "(76367, 12)"
      ]
     },
     "execution_count": 7,
     "metadata": {},
     "output_type": "execute_result"
    }
   ],
   "source": [
    "# shape of dataset\n",
    "df.shape"
   ]
  },
  {
   "cell_type": "markdown",
   "id": "23503cbc",
   "metadata": {
    "papermill": {
     "duration": 0.012774,
     "end_time": "2023-10-07T13:02:41.150576",
     "exception": false,
     "start_time": "2023-10-07T13:02:41.137802",
     "status": "completed"
    },
    "tags": []
   },
   "source": [
    "# Data checks to perforn"
   ]
  },
  {
   "cell_type": "code",
   "execution_count": 8,
   "id": "a1bc902a",
   "metadata": {
    "execution": {
     "iopub.execute_input": "2023-10-07T13:02:41.178249Z",
     "iopub.status.busy": "2023-10-07T13:02:41.177822Z",
     "iopub.status.idle": "2023-10-07T13:02:41.215456Z",
     "shell.execute_reply": "2023-10-07T13:02:41.214278Z"
    },
    "papermill": {
     "duration": 0.054554,
     "end_time": "2023-10-07T13:02:41.217983",
     "exception": false,
     "start_time": "2023-10-07T13:02:41.163429",
     "status": "completed"
    },
    "tags": []
   },
   "outputs": [
    {
     "data": {
      "text/plain": [
       "id                       0\n",
       "Airport_type             0\n",
       "Name                     0\n",
       "Latitude                 0\n",
       "Longitude                0\n",
       "Elevation            14398\n",
       "Continent            36995\n",
       "Country                259\n",
       "Region                   0\n",
       "Municipality          5050\n",
       "Scheduled_service        0\n",
       "Gps_code             35022\n",
       "dtype: int64"
      ]
     },
     "execution_count": 8,
     "metadata": {},
     "output_type": "execute_result"
    }
   ],
   "source": [
    "# Check Missing Values\n",
    "df.isna().sum()"
   ]
  },
  {
   "cell_type": "code",
   "execution_count": 9,
   "id": "939d7493",
   "metadata": {
    "execution": {
     "iopub.execute_input": "2023-10-07T13:02:41.247408Z",
     "iopub.status.busy": "2023-10-07T13:02:41.246949Z",
     "iopub.status.idle": "2023-10-07T13:02:41.370543Z",
     "shell.execute_reply": "2023-10-07T13:02:41.369671Z"
    },
    "papermill": {
     "duration": 0.140994,
     "end_time": "2023-10-07T13:02:41.372546",
     "exception": false,
     "start_time": "2023-10-07T13:02:41.231552",
     "status": "completed"
    },
    "tags": []
   },
   "outputs": [
    {
     "data": {
      "text/plain": [
       "0"
      ]
     },
     "execution_count": 9,
     "metadata": {},
     "output_type": "execute_result"
    }
   ],
   "source": [
    "# check Duplicates\n",
    "\n",
    "df.duplicated().sum()\n"
   ]
  },
  {
   "cell_type": "code",
   "execution_count": 10,
   "id": "dae38d2d",
   "metadata": {
    "execution": {
     "iopub.execute_input": "2023-10-07T13:02:41.400578Z",
     "iopub.status.busy": "2023-10-07T13:02:41.400243Z",
     "iopub.status.idle": "2023-10-07T13:02:41.452800Z",
     "shell.execute_reply": "2023-10-07T13:02:41.451386Z"
    },
    "papermill": {
     "duration": 0.069919,
     "end_time": "2023-10-07T13:02:41.455631",
     "exception": false,
     "start_time": "2023-10-07T13:02:41.385712",
     "status": "completed"
    },
    "tags": []
   },
   "outputs": [
    {
     "name": "stdout",
     "output_type": "stream",
     "text": [
      "<class 'pandas.core.frame.DataFrame'>\n",
      "RangeIndex: 76367 entries, 0 to 76366\n",
      "Data columns (total 12 columns):\n",
      " #   Column             Non-Null Count  Dtype  \n",
      "---  ------             --------------  -----  \n",
      " 0   id                 76367 non-null  int64  \n",
      " 1   Airport_type       76367 non-null  object \n",
      " 2   Name               76367 non-null  object \n",
      " 3   Latitude           76367 non-null  float64\n",
      " 4   Longitude          76367 non-null  float64\n",
      " 5   Elevation          61969 non-null  float64\n",
      " 6   Continent          39372 non-null  object \n",
      " 7   Country            76108 non-null  object \n",
      " 8   Region             76367 non-null  object \n",
      " 9   Municipality       71317 non-null  object \n",
      " 10  Scheduled_service  76367 non-null  object \n",
      " 11  Gps_code           41345 non-null  object \n",
      "dtypes: float64(3), int64(1), object(8)\n",
      "memory usage: 7.0+ MB\n"
     ]
    }
   ],
   "source": [
    "# check Datatypes\n",
    "df.info()"
   ]
  },
  {
   "cell_type": "code",
   "execution_count": 11,
   "id": "cabd16ca",
   "metadata": {
    "execution": {
     "iopub.execute_input": "2023-10-07T13:02:41.556405Z",
     "iopub.status.busy": "2023-10-07T13:02:41.555902Z",
     "iopub.status.idle": "2023-10-07T13:02:41.634272Z",
     "shell.execute_reply": "2023-10-07T13:02:41.633142Z"
    },
    "papermill": {
     "duration": 0.096331,
     "end_time": "2023-10-07T13:02:41.637173",
     "exception": false,
     "start_time": "2023-10-07T13:02:41.540842",
     "status": "completed"
    },
    "tags": []
   },
   "outputs": [
    {
     "data": {
      "text/plain": [
       "id                   76367\n",
       "Airport_type             7\n",
       "Name                 72238\n",
       "Latitude             75149\n",
       "Longitude            75424\n",
       "Elevation             6231\n",
       "Continent                6\n",
       "Country                244\n",
       "Region                2891\n",
       "Municipality         34144\n",
       "Scheduled_service        2\n",
       "Gps_code             41345\n",
       "dtype: int64"
      ]
     },
     "execution_count": 11,
     "metadata": {},
     "output_type": "execute_result"
    }
   ],
   "source": [
    "# check the number of unique values of each column\n",
    "df.nunique()"
   ]
  },
  {
   "cell_type": "code",
   "execution_count": 12,
   "id": "285c4bbe",
   "metadata": {
    "execution": {
     "iopub.execute_input": "2023-10-07T13:02:41.667857Z",
     "iopub.status.busy": "2023-10-07T13:02:41.667212Z",
     "iopub.status.idle": "2023-10-07T13:02:41.706647Z",
     "shell.execute_reply": "2023-10-07T13:02:41.705282Z"
    },
    "papermill": {
     "duration": 0.057333,
     "end_time": "2023-10-07T13:02:41.709103",
     "exception": false,
     "start_time": "2023-10-07T13:02:41.651770",
     "status": "completed"
    },
    "tags": []
   },
   "outputs": [
    {
     "data": {
      "text/html": [
       "<div>\n",
       "<style scoped>\n",
       "    .dataframe tbody tr th:only-of-type {\n",
       "        vertical-align: middle;\n",
       "    }\n",
       "\n",
       "    .dataframe tbody tr th {\n",
       "        vertical-align: top;\n",
       "    }\n",
       "\n",
       "    .dataframe thead th {\n",
       "        text-align: right;\n",
       "    }\n",
       "</style>\n",
       "<table border=\"1\" class=\"dataframe\">\n",
       "  <thead>\n",
       "    <tr style=\"text-align: right;\">\n",
       "      <th></th>\n",
       "      <th>id</th>\n",
       "      <th>Latitude</th>\n",
       "      <th>Longitude</th>\n",
       "      <th>Elevation</th>\n",
       "    </tr>\n",
       "  </thead>\n",
       "  <tbody>\n",
       "    <tr>\n",
       "      <th>count</th>\n",
       "      <td>76367.000000</td>\n",
       "      <td>76367.000000</td>\n",
       "      <td>76367.000000</td>\n",
       "      <td>61969.000000</td>\n",
       "    </tr>\n",
       "    <tr>\n",
       "      <th>mean</th>\n",
       "      <td>162836.653018</td>\n",
       "      <td>25.695102</td>\n",
       "      <td>-28.898201</td>\n",
       "      <td>1302.989947</td>\n",
       "    </tr>\n",
       "    <tr>\n",
       "      <th>std</th>\n",
       "      <td>165653.756787</td>\n",
       "      <td>26.234692</td>\n",
       "      <td>86.149633</td>\n",
       "      <td>1672.216777</td>\n",
       "    </tr>\n",
       "    <tr>\n",
       "      <th>min</th>\n",
       "      <td>2.000000</td>\n",
       "      <td>-90.000000</td>\n",
       "      <td>-179.876999</td>\n",
       "      <td>-1266.000000</td>\n",
       "    </tr>\n",
       "    <tr>\n",
       "      <th>25%</th>\n",
       "      <td>19241.000000</td>\n",
       "      <td>11.990227</td>\n",
       "      <td>-94.065952</td>\n",
       "      <td>207.000000</td>\n",
       "    </tr>\n",
       "    <tr>\n",
       "      <th>50%</th>\n",
       "      <td>40902.000000</td>\n",
       "      <td>35.133200</td>\n",
       "      <td>-69.794040</td>\n",
       "      <td>730.000000</td>\n",
       "    </tr>\n",
       "    <tr>\n",
       "      <th>75%</th>\n",
       "      <td>335614.500000</td>\n",
       "      <td>42.670806</td>\n",
       "      <td>23.845099</td>\n",
       "      <td>1617.000000</td>\n",
       "    </tr>\n",
       "    <tr>\n",
       "      <th>max</th>\n",
       "      <td>512065.000000</td>\n",
       "      <td>82.750000</td>\n",
       "      <td>179.975700</td>\n",
       "      <td>17372.000000</td>\n",
       "    </tr>\n",
       "  </tbody>\n",
       "</table>\n",
       "</div>"
      ],
      "text/plain": [
       "                  id      Latitude     Longitude     Elevation\n",
       "count   76367.000000  76367.000000  76367.000000  61969.000000\n",
       "mean   162836.653018     25.695102    -28.898201   1302.989947\n",
       "std    165653.756787     26.234692     86.149633   1672.216777\n",
       "min         2.000000    -90.000000   -179.876999  -1266.000000\n",
       "25%     19241.000000     11.990227    -94.065952    207.000000\n",
       "50%     40902.000000     35.133200    -69.794040    730.000000\n",
       "75%    335614.500000     42.670806     23.845099   1617.000000\n",
       "max    512065.000000     82.750000    179.975700  17372.000000"
      ]
     },
     "execution_count": 12,
     "metadata": {},
     "output_type": "execute_result"
    }
   ],
   "source": [
    "# check statistics of numerical data\n",
    "df.describe(exclude='O')"
   ]
  },
  {
   "cell_type": "code",
   "execution_count": 13,
   "id": "be44443b",
   "metadata": {
    "execution": {
     "iopub.execute_input": "2023-10-07T13:02:41.738542Z",
     "iopub.status.busy": "2023-10-07T13:02:41.738198Z",
     "iopub.status.idle": "2023-10-07T13:02:41.918036Z",
     "shell.execute_reply": "2023-10-07T13:02:41.916417Z"
    },
    "papermill": {
     "duration": 0.197391,
     "end_time": "2023-10-07T13:02:41.920517",
     "exception": false,
     "start_time": "2023-10-07T13:02:41.723126",
     "status": "completed"
    },
    "tags": []
   },
   "outputs": [
    {
     "data": {
      "text/html": [
       "<div>\n",
       "<style scoped>\n",
       "    .dataframe tbody tr th:only-of-type {\n",
       "        vertical-align: middle;\n",
       "    }\n",
       "\n",
       "    .dataframe tbody tr th {\n",
       "        vertical-align: top;\n",
       "    }\n",
       "\n",
       "    .dataframe thead th {\n",
       "        text-align: right;\n",
       "    }\n",
       "</style>\n",
       "<table border=\"1\" class=\"dataframe\">\n",
       "  <thead>\n",
       "    <tr style=\"text-align: right;\">\n",
       "      <th></th>\n",
       "      <th>Airport_type</th>\n",
       "      <th>Name</th>\n",
       "      <th>Continent</th>\n",
       "      <th>Country</th>\n",
       "      <th>Region</th>\n",
       "      <th>Municipality</th>\n",
       "      <th>Scheduled_service</th>\n",
       "      <th>Gps_code</th>\n",
       "    </tr>\n",
       "  </thead>\n",
       "  <tbody>\n",
       "    <tr>\n",
       "      <th>count</th>\n",
       "      <td>76367</td>\n",
       "      <td>76367</td>\n",
       "      <td>39372</td>\n",
       "      <td>76108</td>\n",
       "      <td>76367</td>\n",
       "      <td>71317</td>\n",
       "      <td>76367</td>\n",
       "      <td>41345</td>\n",
       "    </tr>\n",
       "    <tr>\n",
       "      <th>unique</th>\n",
       "      <td>7</td>\n",
       "      <td>72238</td>\n",
       "      <td>6</td>\n",
       "      <td>244</td>\n",
       "      <td>2891</td>\n",
       "      <td>34144</td>\n",
       "      <td>2</td>\n",
       "      <td>41345</td>\n",
       "    </tr>\n",
       "    <tr>\n",
       "      <th>top</th>\n",
       "      <td>small_airport</td>\n",
       "      <td>Centre Hospitalier Heliport</td>\n",
       "      <td>AS</td>\n",
       "      <td>US</td>\n",
       "      <td>US-TX</td>\n",
       "      <td>Osaka</td>\n",
       "      <td>no</td>\n",
       "      <td>K00A</td>\n",
       "    </tr>\n",
       "    <tr>\n",
       "      <th>freq</th>\n",
       "      <td>39738</td>\n",
       "      <td>83</td>\n",
       "      <td>11060</td>\n",
       "      <td>30581</td>\n",
       "      <td>3659</td>\n",
       "      <td>419</td>\n",
       "      <td>72103</td>\n",
       "      <td>1</td>\n",
       "    </tr>\n",
       "  </tbody>\n",
       "</table>\n",
       "</div>"
      ],
      "text/plain": [
       "         Airport_type                         Name Continent Country Region  \\\n",
       "count           76367                        76367     39372   76108  76367   \n",
       "unique              7                        72238         6     244   2891   \n",
       "top     small_airport  Centre Hospitalier Heliport        AS      US  US-TX   \n",
       "freq            39738                           83     11060   30581   3659   \n",
       "\n",
       "       Municipality Scheduled_service Gps_code  \n",
       "count         71317             76367    41345  \n",
       "unique        34144                 2    41345  \n",
       "top           Osaka                no     K00A  \n",
       "freq            419             72103        1  "
      ]
     },
     "execution_count": 13,
     "metadata": {},
     "output_type": "execute_result"
    }
   ],
   "source": [
    "# check statistics of Categorical data\n",
    "df.describe(include='O')"
   ]
  },
  {
   "cell_type": "code",
   "execution_count": 14,
   "id": "2f943fdb",
   "metadata": {
    "execution": {
     "iopub.execute_input": "2023-10-07T13:02:41.951325Z",
     "iopub.status.busy": "2023-10-07T13:02:41.949955Z",
     "iopub.status.idle": "2023-10-07T13:02:41.956922Z",
     "shell.execute_reply": "2023-10-07T13:02:41.955782Z"
    },
    "papermill": {
     "duration": 0.024687,
     "end_time": "2023-10-07T13:02:41.959279",
     "exception": false,
     "start_time": "2023-10-07T13:02:41.934592",
     "status": "completed"
    },
    "tags": []
   },
   "outputs": [
    {
     "name": "stdout",
     "output_type": "stream",
     "text": [
      "We have 4 numerical features : ['id', 'Latitude', 'Longitude', 'Elevation']\n"
     ]
    }
   ],
   "source": [
    "# define numerical columns \n",
    "numerical_features = [feature for feature in df.columns if df[feature].dtype !='O']\n",
    "\n",
    "#print columns\n",
    "print('We have {} numerical features : {}'.format(len(numerical_features),numerical_features))"
   ]
  },
  {
   "cell_type": "code",
   "execution_count": 15,
   "id": "6325e050",
   "metadata": {
    "execution": {
     "iopub.execute_input": "2023-10-07T13:02:41.989231Z",
     "iopub.status.busy": "2023-10-07T13:02:41.988766Z",
     "iopub.status.idle": "2023-10-07T13:02:41.994958Z",
     "shell.execute_reply": "2023-10-07T13:02:41.993986Z"
    },
    "papermill": {
     "duration": 0.023836,
     "end_time": "2023-10-07T13:02:41.997263",
     "exception": false,
     "start_time": "2023-10-07T13:02:41.973427",
     "status": "completed"
    },
    "tags": []
   },
   "outputs": [
    {
     "name": "stdout",
     "output_type": "stream",
     "text": [
      "We have 8 categorical features : ['Airport_type', 'Name', 'Continent', 'Country', 'Region', 'Municipality', 'Scheduled_service', 'Gps_code']\n"
     ]
    }
   ],
   "source": [
    "# define Categorical columns \n",
    "categorical_features = [feature for feature in df.columns if df[feature].dtype =='O']\n",
    "\n",
    "#print columns\n",
    "print('We have {} categorical features : {}'.format(len(categorical_features),categorical_features))"
   ]
  },
  {
   "cell_type": "code",
   "execution_count": 16,
   "id": "449d9030",
   "metadata": {
    "execution": {
     "iopub.execute_input": "2023-10-07T13:02:42.029499Z",
     "iopub.status.busy": "2023-10-07T13:02:42.029041Z",
     "iopub.status.idle": "2023-10-07T13:02:42.043421Z",
     "shell.execute_reply": "2023-10-07T13:02:42.042426Z"
    },
    "papermill": {
     "duration": 0.03306,
     "end_time": "2023-10-07T13:02:42.045626",
     "exception": false,
     "start_time": "2023-10-07T13:02:42.012566",
     "status": "completed"
    },
    "tags": []
   },
   "outputs": [
    {
     "data": {
      "text/plain": [
       "id               0\n",
       "Latitude         0\n",
       "Longitude        0\n",
       "Elevation    14398\n",
       "dtype: int64"
      ]
     },
     "execution_count": 16,
     "metadata": {},
     "output_type": "execute_result"
    }
   ],
   "source": [
    "# Missing Values in Numerical Columns\n",
    "df[numerical_features].isna().sum()"
   ]
  },
  {
   "cell_type": "code",
   "execution_count": 17,
   "id": "ff333a48",
   "metadata": {
    "execution": {
     "iopub.execute_input": "2023-10-07T13:02:42.075913Z",
     "iopub.status.busy": "2023-10-07T13:02:42.075536Z",
     "iopub.status.idle": "2023-10-07T13:02:42.796883Z",
     "shell.execute_reply": "2023-10-07T13:02:42.795474Z"
    },
    "papermill": {
     "duration": 0.739476,
     "end_time": "2023-10-07T13:02:42.799260",
     "exception": false,
     "start_time": "2023-10-07T13:02:42.059784",
     "status": "completed"
    },
    "tags": []
   },
   "outputs": [
    {
     "data": {
      "image/png": "[encoded data removed]",
      "text/plain": [
       "<Figure size 800x600 with 2 Axes>"
      ]
     },
     "metadata": {},
     "output_type": "display_data"
    }
   ],
   "source": [
    "plt.figure(figsize=(8,6))\n",
    "sns.heatmap(df[numerical_features].notna())\n",
    "plt.show()"
   ]
  },
  {
   "cell_type": "code",
   "execution_count": 18,
   "id": "0ef73935",
   "metadata": {
    "execution": {
     "iopub.execute_input": "2023-10-07T13:02:42.831228Z",
     "iopub.status.busy": "2023-10-07T13:02:42.830795Z",
     "iopub.status.idle": "2023-10-07T13:02:42.875231Z",
     "shell.execute_reply": "2023-10-07T13:02:42.873937Z"
    },
    "papermill": {
     "duration": 0.063523,
     "end_time": "2023-10-07T13:02:42.877631",
     "exception": false,
     "start_time": "2023-10-07T13:02:42.814108",
     "status": "completed"
    },
    "tags": []
   },
   "outputs": [
    {
     "data": {
      "text/plain": [
       "Airport_type             0\n",
       "Name                     0\n",
       "Continent            36995\n",
       "Country                259\n",
       "Region                   0\n",
       "Municipality          5050\n",
       "Scheduled_service        0\n",
       "Gps_code             35022\n",
       "dtype: int64"
      ]
     },
     "execution_count": 18,
     "metadata": {},
     "output_type": "execute_result"
    }
   ],
   "source": [
    "# Missing Values in Categorical Columns\n",
    "df[categorical_features].isna().sum()"
   ]
  },
  {
   "cell_type": "code",
   "execution_count": 19,
   "id": "fb06b330",
   "metadata": {
    "execution": {
     "iopub.execute_input": "2023-10-07T13:02:42.910342Z",
     "iopub.status.busy": "2023-10-07T13:02:42.909548Z",
     "iopub.status.idle": "2023-10-07T13:02:44.014814Z",
     "shell.execute_reply": "2023-10-07T13:02:44.013866Z"
    },
    "papermill": {
     "duration": 1.124187,
     "end_time": "2023-10-07T13:02:44.016854",
     "exception": false,
     "start_time": "2023-10-07T13:02:42.892667",
     "status": "completed"
    },
    "tags": []
   },
   "outputs": [
    {
     "data": {
      "image/png": "[encoded data removed]",
      "text/plain": [
       "<Figure size 800x600 with 2 Axes>"
      ]
     },
     "metadata": {},
     "output_type": "display_data"
    }
   ],
   "source": [
    "# Let's See Missing Values visually using heatmap\n",
    "plt.figure(figsize=(8,6))\n",
    "sns.heatmap(df[categorical_features].notna())\n",
    "plt.show()"
   ]
  },
  {
   "cell_type": "markdown",
   "id": "7b2df19d",
   "metadata": {
    "papermill": {
     "duration": 0.016058,
     "end_time": "2023-10-07T13:02:44.050488",
     "exception": false,
     "start_time": "2023-10-07T13:02:44.034430",
     "status": "completed"
    },
    "tags": []
   },
   "source": [
    "# Exploring the Data"
   ]
  },
  {
   "cell_type": "code",
   "execution_count": 20,
   "id": "5bbe6776",
   "metadata": {
    "execution": {
     "iopub.execute_input": "2023-10-07T13:02:44.084998Z",
     "iopub.status.busy": "2023-10-07T13:02:44.084079Z",
     "iopub.status.idle": "2023-10-07T13:02:44.108499Z",
     "shell.execute_reply": "2023-10-07T13:02:44.107761Z"
    },
    "papermill": {
     "duration": 0.044009,
     "end_time": "2023-10-07T13:02:44.110461",
     "exception": false,
     "start_time": "2023-10-07T13:02:44.066452",
     "status": "completed"
    },
    "tags": []
   },
   "outputs": [
    {
     "data": {
      "text/html": [
       "<div>\n",
       "<style scoped>\n",
       "    .dataframe tbody tr th:only-of-type {\n",
       "        vertical-align: middle;\n",
       "    }\n",
       "\n",
       "    .dataframe tbody tr th {\n",
       "        vertical-align: top;\n",
       "    }\n",
       "\n",
       "    .dataframe thead th {\n",
       "        text-align: right;\n",
       "    }\n",
       "</style>\n",
       "<table border=\"1\" class=\"dataframe\">\n",
       "  <thead>\n",
       "    <tr style=\"text-align: right;\">\n",
       "      <th></th>\n",
       "      <th>id</th>\n",
       "      <th>Airport_type</th>\n",
       "      <th>Name</th>\n",
       "      <th>Latitude</th>\n",
       "      <th>Longitude</th>\n",
       "      <th>Elevation</th>\n",
       "      <th>Continent</th>\n",
       "      <th>Country</th>\n",
       "      <th>Region</th>\n",
       "      <th>Municipality</th>\n",
       "      <th>Scheduled_service</th>\n",
       "      <th>Gps_code</th>\n",
       "    </tr>\n",
       "  </thead>\n",
       "  <tbody>\n",
       "    <tr>\n",
       "      <th>25749</th>\n",
       "      <td>315385</td>\n",
       "      <td>small_airport</td>\n",
       "      <td>Ai-Ais Airport</td>\n",
       "      <td>-27.995000</td>\n",
       "      <td>17.596600</td>\n",
       "      <td>2000.0</td>\n",
       "      <td>AF</td>\n",
       "      <td>NaN</td>\n",
       "      <td>NA-KA</td>\n",
       "      <td>Ai-Ais</td>\n",
       "      <td>no</td>\n",
       "      <td>FYAA</td>\n",
       "    </tr>\n",
       "    <tr>\n",
       "      <th>25750</th>\n",
       "      <td>29539</td>\n",
       "      <td>small_airport</td>\n",
       "      <td>Aroab B Airport</td>\n",
       "      <td>-26.776100</td>\n",
       "      <td>19.633101</td>\n",
       "      <td>3235.0</td>\n",
       "      <td>AF</td>\n",
       "      <td>NaN</td>\n",
       "      <td>NA-KA</td>\n",
       "      <td>Aroab</td>\n",
       "      <td>no</td>\n",
       "      <td>FYAB</td>\n",
       "    </tr>\n",
       "    <tr>\n",
       "      <th>25751</th>\n",
       "      <td>315405</td>\n",
       "      <td>small_airport</td>\n",
       "      <td>Aussenkehr Airport</td>\n",
       "      <td>-28.458700</td>\n",
       "      <td>17.464500</td>\n",
       "      <td>970.0</td>\n",
       "      <td>AF</td>\n",
       "      <td>NaN</td>\n",
       "      <td>NA-KA</td>\n",
       "      <td>Aussenkehr</td>\n",
       "      <td>no</td>\n",
       "      <td>FYAK</td>\n",
       "    </tr>\n",
       "    <tr>\n",
       "      <th>25752</th>\n",
       "      <td>29534</td>\n",
       "      <td>small_airport</td>\n",
       "      <td>Aminuis Airstrip</td>\n",
       "      <td>-23.655800</td>\n",
       "      <td>19.351700</td>\n",
       "      <td>4012.0</td>\n",
       "      <td>AF</td>\n",
       "      <td>NaN</td>\n",
       "      <td>NA-OH</td>\n",
       "      <td>Aminuis</td>\n",
       "      <td>no</td>\n",
       "      <td>FYAM</td>\n",
       "    </tr>\n",
       "    <tr>\n",
       "      <th>25753</th>\n",
       "      <td>3024</td>\n",
       "      <td>medium_airport</td>\n",
       "      <td>Arandis Airport</td>\n",
       "      <td>-22.461875</td>\n",
       "      <td>14.979322</td>\n",
       "      <td>1905.0</td>\n",
       "      <td>AF</td>\n",
       "      <td>NaN</td>\n",
       "      <td>NA-ER</td>\n",
       "      <td>Arandis</td>\n",
       "      <td>no</td>\n",
       "      <td>FYAR</td>\n",
       "    </tr>\n",
       "    <tr>\n",
       "      <th>...</th>\n",
       "      <td>...</td>\n",
       "      <td>...</td>\n",
       "      <td>...</td>\n",
       "      <td>...</td>\n",
       "      <td>...</td>\n",
       "      <td>...</td>\n",
       "      <td>...</td>\n",
       "      <td>...</td>\n",
       "      <td>...</td>\n",
       "      <td>...</td>\n",
       "      <td>...</td>\n",
       "      <td>...</td>\n",
       "    </tr>\n",
       "    <tr>\n",
       "      <th>46161</th>\n",
       "      <td>322415</td>\n",
       "      <td>small_airport</td>\n",
       "      <td>Farm Dawib Ost Landing Strip</td>\n",
       "      <td>-21.774528</td>\n",
       "      <td>15.515361</td>\n",
       "      <td>3503.0</td>\n",
       "      <td>AF</td>\n",
       "      <td>NaN</td>\n",
       "      <td>NA-ER</td>\n",
       "      <td>Hohenstein Lodge</td>\n",
       "      <td>no</td>\n",
       "      <td>NaN</td>\n",
       "    </tr>\n",
       "    <tr>\n",
       "      <th>46162</th>\n",
       "      <td>322416</td>\n",
       "      <td>small_airport</td>\n",
       "      <td>Farm Gurus Landing Strip</td>\n",
       "      <td>-24.076750</td>\n",
       "      <td>17.610417</td>\n",
       "      <td>4061.0</td>\n",
       "      <td>AF</td>\n",
       "      <td>NaN</td>\n",
       "      <td>NA-HA</td>\n",
       "      <td>Kalkrand</td>\n",
       "      <td>no</td>\n",
       "      <td>NaN</td>\n",
       "    </tr>\n",
       "    <tr>\n",
       "      <th>46163</th>\n",
       "      <td>345911</td>\n",
       "      <td>small_airport</td>\n",
       "      <td>Desert Rhino Camp Airstrip</td>\n",
       "      <td>-20.036661</td>\n",
       "      <td>13.844147</td>\n",
       "      <td>NaN</td>\n",
       "      <td>AF</td>\n",
       "      <td>NaN</td>\n",
       "      <td>NA-KU</td>\n",
       "      <td>NaN</td>\n",
       "      <td>no</td>\n",
       "      <td>NaN</td>\n",
       "    </tr>\n",
       "    <tr>\n",
       "      <th>46164</th>\n",
       "      <td>351688</td>\n",
       "      <td>small_airport</td>\n",
       "      <td>Namushasha River Lodge Airport</td>\n",
       "      <td>-17.983840</td>\n",
       "      <td>23.309320</td>\n",
       "      <td>3161.0</td>\n",
       "      <td>AF</td>\n",
       "      <td>NaN</td>\n",
       "      <td>NA-CA</td>\n",
       "      <td>Ngonga</td>\n",
       "      <td>no</td>\n",
       "      <td>NaN</td>\n",
       "    </tr>\n",
       "    <tr>\n",
       "      <th>46165</th>\n",
       "      <td>353241</td>\n",
       "      <td>small_airport</td>\n",
       "      <td>Skuit Drift Airport</td>\n",
       "      <td>-28.376640</td>\n",
       "      <td>19.779240</td>\n",
       "      <td>3150.0</td>\n",
       "      <td>AF</td>\n",
       "      <td>NaN</td>\n",
       "      <td>NA-KA</td>\n",
       "      <td>Skuit Drift</td>\n",
       "      <td>no</td>\n",
       "      <td>NaN</td>\n",
       "    </tr>\n",
       "  </tbody>\n",
       "</table>\n",
       "<p>259 rows × 12 columns</p>\n",
       "</div>"
      ],
      "text/plain": [
       "           id    Airport_type                            Name   Latitude  \\\n",
       "25749  315385   small_airport                  Ai-Ais Airport -27.995000   \n",
       "25750   29539   small_airport                 Aroab B Airport -26.776100   \n",
       "25751  315405   small_airport              Aussenkehr Airport -28.458700   \n",
       "25752   29534   small_airport                Aminuis Airstrip -23.655800   \n",
       "25753    3024  medium_airport                 Arandis Airport -22.461875   \n",
       "...       ...             ...                             ...        ...   \n",
       "46161  322415   small_airport    Farm Dawib Ost Landing Strip -21.774528   \n",
       "46162  322416   small_airport        Farm Gurus Landing Strip -24.076750   \n",
       "46163  345911   small_airport      Desert Rhino Camp Airstrip -20.036661   \n",
       "46164  351688   small_airport  Namushasha River Lodge Airport -17.983840   \n",
       "46165  353241   small_airport             Skuit Drift Airport -28.376640   \n",
       "\n",
       "       Longitude  Elevation Continent Country Region      Municipality  \\\n",
       "25749  17.596600     2000.0        AF     NaN  NA-KA            Ai-Ais   \n",
       "25750  19.633101     3235.0        AF     NaN  NA-KA             Aroab   \n",
       "25751  17.464500      970.0        AF     NaN  NA-KA        Aussenkehr   \n",
       "25752  19.351700     4012.0        AF     NaN  NA-OH           Aminuis   \n",
       "25753  14.979322     1905.0        AF     NaN  NA-ER           Arandis   \n",
       "...          ...        ...       ...     ...    ...               ...   \n",
       "46161  15.515361     3503.0        AF     NaN  NA-ER  Hohenstein Lodge   \n",
       "46162  17.610417     4061.0        AF     NaN  NA-HA          Kalkrand   \n",
       "46163  13.844147        NaN        AF     NaN  NA-KU               NaN   \n",
       "46164  23.309320     3161.0        AF     NaN  NA-CA            Ngonga   \n",
       "46165  19.779240     3150.0        AF     NaN  NA-KA       Skuit Drift   \n",
       "\n",
       "      Scheduled_service Gps_code  \n",
       "25749                no     FYAA  \n",
       "25750                no     FYAB  \n",
       "25751                no     FYAK  \n",
       "25752                no     FYAM  \n",
       "25753                no     FYAR  \n",
       "...                 ...      ...  \n",
       "46161                no      NaN  \n",
       "46162                no      NaN  \n",
       "46163                no      NaN  \n",
       "46164                no      NaN  \n",
       "46165                no      NaN  \n",
       "\n",
       "[259 rows x 12 columns]"
      ]
     },
     "execution_count": 20,
     "metadata": {},
     "output_type": "execute_result"
    }
   ],
   "source": [
    "# Lets Check Missing values in Country Column\n",
    "df[df['Country'].isnull()]"
   ]
  },
  {
   "cell_type": "code",
   "execution_count": 21,
   "id": "c07e24c8",
   "metadata": {
    "execution": {
     "iopub.execute_input": "2023-10-07T13:02:44.146505Z",
     "iopub.status.busy": "2023-10-07T13:02:44.145875Z",
     "iopub.status.idle": "2023-10-07T13:02:44.180139Z",
     "shell.execute_reply": "2023-10-07T13:02:44.179112Z"
    },
    "papermill": {
     "duration": 0.05525,
     "end_time": "2023-10-07T13:02:44.182859",
     "exception": false,
     "start_time": "2023-10-07T13:02:44.127609",
     "status": "completed"
    },
    "tags": []
   },
   "outputs": [],
   "source": [
    "# Replacing NaN values of country column with based on region\n",
    "df['Country'] = df['Country'].fillna(df['Region'].str.slice(0,2))"
   ]
  },
  {
   "cell_type": "code",
   "execution_count": 22,
   "id": "77fd093c",
   "metadata": {
    "execution": {
     "iopub.execute_input": "2023-10-07T13:02:44.220127Z",
     "iopub.status.busy": "2023-10-07T13:02:44.219472Z",
     "iopub.status.idle": "2023-10-07T13:02:44.231668Z",
     "shell.execute_reply": "2023-10-07T13:02:44.230095Z"
    },
    "papermill": {
     "duration": 0.03338,
     "end_time": "2023-10-07T13:02:44.234123",
     "exception": false,
     "start_time": "2023-10-07T13:02:44.200743",
     "status": "completed"
    },
    "tags": []
   },
   "outputs": [
    {
     "data": {
      "text/plain": [
       "0"
      ]
     },
     "execution_count": 22,
     "metadata": {},
     "output_type": "execute_result"
    }
   ],
   "source": [
    "df['Country'].isna().sum()"
   ]
  },
  {
   "cell_type": "code",
   "execution_count": 23,
   "id": "07af9e31",
   "metadata": {
    "execution": {
     "iopub.execute_input": "2023-10-07T13:02:44.272032Z",
     "iopub.status.busy": "2023-10-07T13:02:44.271654Z",
     "iopub.status.idle": "2023-10-07T13:02:44.286841Z",
     "shell.execute_reply": "2023-10-07T13:02:44.285519Z"
    },
    "papermill": {
     "duration": 0.03738,
     "end_time": "2023-10-07T13:02:44.289206",
     "exception": false,
     "start_time": "2023-10-07T13:02:44.251826",
     "status": "completed"
    },
    "tags": []
   },
   "outputs": [
    {
     "data": {
      "text/html": [
       "<div>\n",
       "<style scoped>\n",
       "    .dataframe tbody tr th:only-of-type {\n",
       "        vertical-align: middle;\n",
       "    }\n",
       "\n",
       "    .dataframe tbody tr th {\n",
       "        vertical-align: top;\n",
       "    }\n",
       "\n",
       "    .dataframe thead th {\n",
       "        text-align: right;\n",
       "    }\n",
       "</style>\n",
       "<table border=\"1\" class=\"dataframe\">\n",
       "  <thead>\n",
       "    <tr style=\"text-align: right;\">\n",
       "      <th></th>\n",
       "      <th>id</th>\n",
       "      <th>Airport_type</th>\n",
       "      <th>Name</th>\n",
       "      <th>Latitude</th>\n",
       "      <th>Longitude</th>\n",
       "      <th>Elevation</th>\n",
       "      <th>Continent</th>\n",
       "      <th>Country</th>\n",
       "      <th>Region</th>\n",
       "      <th>Municipality</th>\n",
       "      <th>Scheduled_service</th>\n",
       "      <th>Gps_code</th>\n",
       "    </tr>\n",
       "  </thead>\n",
       "  <tbody>\n",
       "  </tbody>\n",
       "</table>\n",
       "</div>"
      ],
      "text/plain": [
       "Empty DataFrame\n",
       "Columns: [id, Airport_type, Name, Latitude, Longitude, Elevation, Continent, Country, Region, Municipality, Scheduled_service, Gps_code]\n",
       "Index: []"
      ]
     },
     "execution_count": 23,
     "metadata": {},
     "output_type": "execute_result"
    }
   ],
   "source": [
    "# Now Check Missing values in Country Column\n",
    "df[df['Country'].isnull()]"
   ]
  },
  {
   "cell_type": "code",
   "execution_count": 24,
   "id": "6da370cc",
   "metadata": {
    "execution": {
     "iopub.execute_input": "2023-10-07T13:02:44.326179Z",
     "iopub.status.busy": "2023-10-07T13:02:44.325743Z",
     "iopub.status.idle": "2023-10-07T13:02:44.336143Z",
     "shell.execute_reply": "2023-10-07T13:02:44.334769Z"
    },
    "papermill": {
     "duration": 0.032066,
     "end_time": "2023-10-07T13:02:44.338217",
     "exception": false,
     "start_time": "2023-10-07T13:02:44.306151",
     "status": "completed"
    },
    "tags": []
   },
   "outputs": [
    {
     "data": {
      "text/plain": [
       "245"
      ]
     },
     "execution_count": 24,
     "metadata": {},
     "output_type": "execute_result"
    }
   ],
   "source": [
    "df.Country.nunique()"
   ]
  },
  {
   "cell_type": "code",
   "execution_count": 25,
   "id": "cafcf09e",
   "metadata": {
    "execution": {
     "iopub.execute_input": "2023-10-07T13:02:44.374867Z",
     "iopub.status.busy": "2023-10-07T13:02:44.374501Z",
     "iopub.status.idle": "2023-10-07T13:02:44.403433Z",
     "shell.execute_reply": "2023-10-07T13:02:44.402262Z"
    },
    "papermill": {
     "duration": 0.050729,
     "end_time": "2023-10-07T13:02:44.406208",
     "exception": false,
     "start_time": "2023-10-07T13:02:44.355479",
     "status": "completed"
    },
    "tags": []
   },
   "outputs": [
    {
     "data": {
      "text/html": [
       "<div>\n",
       "<style scoped>\n",
       "    .dataframe tbody tr th:only-of-type {\n",
       "        vertical-align: middle;\n",
       "    }\n",
       "\n",
       "    .dataframe tbody tr th {\n",
       "        vertical-align: top;\n",
       "    }\n",
       "\n",
       "    .dataframe thead th {\n",
       "        text-align: right;\n",
       "    }\n",
       "</style>\n",
       "<table border=\"1\" class=\"dataframe\">\n",
       "  <thead>\n",
       "    <tr style=\"text-align: right;\">\n",
       "      <th></th>\n",
       "      <th>id</th>\n",
       "      <th>Airport_type</th>\n",
       "      <th>Name</th>\n",
       "      <th>Latitude</th>\n",
       "      <th>Longitude</th>\n",
       "      <th>Elevation</th>\n",
       "      <th>Continent</th>\n",
       "      <th>Country</th>\n",
       "      <th>Region</th>\n",
       "      <th>Municipality</th>\n",
       "      <th>Scheduled_service</th>\n",
       "      <th>Gps_code</th>\n",
       "    </tr>\n",
       "  </thead>\n",
       "  <tbody>\n",
       "    <tr>\n",
       "      <th>5</th>\n",
       "      <td>6526</td>\n",
       "      <td>closed</td>\n",
       "      <td>Newport Hospital &amp; Clinic Heliport</td>\n",
       "      <td>35.608700</td>\n",
       "      <td>-91.254898</td>\n",
       "      <td>237.0</td>\n",
       "      <td>NaN</td>\n",
       "      <td>US</td>\n",
       "      <td>US-AR</td>\n",
       "      <td>Newport</td>\n",
       "      <td>no</td>\n",
       "      <td>NaN</td>\n",
       "    </tr>\n",
       "    <tr>\n",
       "      <th>11</th>\n",
       "      <td>6529</td>\n",
       "      <td>closed</td>\n",
       "      <td>Cass Field</td>\n",
       "      <td>40.622202</td>\n",
       "      <td>-104.344002</td>\n",
       "      <td>4830.0</td>\n",
       "      <td>NaN</td>\n",
       "      <td>US</td>\n",
       "      <td>US-CO</td>\n",
       "      <td>Briggsdale</td>\n",
       "      <td>no</td>\n",
       "      <td>NaN</td>\n",
       "    </tr>\n",
       "    <tr>\n",
       "      <th>13</th>\n",
       "      <td>6532</td>\n",
       "      <td>closed</td>\n",
       "      <td>Ringhaver Heliport</td>\n",
       "      <td>28.846600</td>\n",
       "      <td>-82.345398</td>\n",
       "      <td>25.0</td>\n",
       "      <td>NaN</td>\n",
       "      <td>US</td>\n",
       "      <td>US-FL</td>\n",
       "      <td>Riverview</td>\n",
       "      <td>no</td>\n",
       "      <td>NaN</td>\n",
       "    </tr>\n",
       "    <tr>\n",
       "      <th>20</th>\n",
       "      <td>6538</td>\n",
       "      <td>closed</td>\n",
       "      <td>Bailey Generation Station Heliport</td>\n",
       "      <td>41.644501</td>\n",
       "      <td>-87.122803</td>\n",
       "      <td>600.0</td>\n",
       "      <td>NaN</td>\n",
       "      <td>US</td>\n",
       "      <td>US-IN</td>\n",
       "      <td>Chesterton</td>\n",
       "      <td>no</td>\n",
       "      <td>NaN</td>\n",
       "    </tr>\n",
       "    <tr>\n",
       "      <th>40</th>\n",
       "      <td>6555</td>\n",
       "      <td>closed</td>\n",
       "      <td>Exit 3 Airport</td>\n",
       "      <td>41.590476</td>\n",
       "      <td>-84.141583</td>\n",
       "      <td>785.0</td>\n",
       "      <td>NaN</td>\n",
       "      <td>US</td>\n",
       "      <td>US-OH</td>\n",
       "      <td>Wauseon</td>\n",
       "      <td>no</td>\n",
       "      <td>NaN</td>\n",
       "    </tr>\n",
       "    <tr>\n",
       "      <th>...</th>\n",
       "      <td>...</td>\n",
       "      <td>...</td>\n",
       "      <td>...</td>\n",
       "      <td>...</td>\n",
       "      <td>...</td>\n",
       "      <td>...</td>\n",
       "      <td>...</td>\n",
       "      <td>...</td>\n",
       "      <td>...</td>\n",
       "      <td>...</td>\n",
       "      <td>...</td>\n",
       "      <td>...</td>\n",
       "    </tr>\n",
       "    <tr>\n",
       "      <th>76293</th>\n",
       "      <td>329802</td>\n",
       "      <td>closed</td>\n",
       "      <td>Makuti Airstrip</td>\n",
       "      <td>-16.344021</td>\n",
       "      <td>29.202102</td>\n",
       "      <td>3268.0</td>\n",
       "      <td>AF</td>\n",
       "      <td>ZW</td>\n",
       "      <td>ZW-MW</td>\n",
       "      <td>Makuti</td>\n",
       "      <td>no</td>\n",
       "      <td>NaN</td>\n",
       "    </tr>\n",
       "    <tr>\n",
       "      <th>76298</th>\n",
       "      <td>31259</td>\n",
       "      <td>closed</td>\n",
       "      <td>(Old) Rusape Airport</td>\n",
       "      <td>-18.533001</td>\n",
       "      <td>32.132999</td>\n",
       "      <td>4560.0</td>\n",
       "      <td>AF</td>\n",
       "      <td>ZW</td>\n",
       "      <td>ZW-MA</td>\n",
       "      <td>Rusape</td>\n",
       "      <td>no</td>\n",
       "      <td>NaN</td>\n",
       "    </tr>\n",
       "    <tr>\n",
       "      <th>76310</th>\n",
       "      <td>351703</td>\n",
       "      <td>closed</td>\n",
       "      <td>Mbuhulu Airstrip</td>\n",
       "      <td>-19.509961</td>\n",
       "      <td>27.408571</td>\n",
       "      <td>3370.0</td>\n",
       "      <td>AF</td>\n",
       "      <td>ZW</td>\n",
       "      <td>ZW-MN</td>\n",
       "      <td>Mbuhulu Pan</td>\n",
       "      <td>no</td>\n",
       "      <td>NaN</td>\n",
       "    </tr>\n",
       "    <tr>\n",
       "      <th>76358</th>\n",
       "      <td>342103</td>\n",
       "      <td>closed</td>\n",
       "      <td>Mt Logan Airstrip</td>\n",
       "      <td>60.792990</td>\n",
       "      <td>-138.694027</td>\n",
       "      <td>1997.0</td>\n",
       "      <td>NaN</td>\n",
       "      <td>CA</td>\n",
       "      <td>CA-YT</td>\n",
       "      <td>Unorganized Yukon</td>\n",
       "      <td>no</td>\n",
       "      <td>NaN</td>\n",
       "    </tr>\n",
       "    <tr>\n",
       "      <th>76365</th>\n",
       "      <td>342102</td>\n",
       "      <td>closed</td>\n",
       "      <td>Scandium City Heliport</td>\n",
       "      <td>69.355287</td>\n",
       "      <td>-138.939310</td>\n",
       "      <td>4.0</td>\n",
       "      <td>NaN</td>\n",
       "      <td>CA</td>\n",
       "      <td>CA-YT</td>\n",
       "      <td>(Old) Scandium City</td>\n",
       "      <td>no</td>\n",
       "      <td>NaN</td>\n",
       "    </tr>\n",
       "  </tbody>\n",
       "</table>\n",
       "<p>10798 rows × 12 columns</p>\n",
       "</div>"
      ],
      "text/plain": [
       "           id Airport_type                                Name   Latitude  \\\n",
       "5        6526       closed  Newport Hospital & Clinic Heliport  35.608700   \n",
       "11       6529       closed                          Cass Field  40.622202   \n",
       "13       6532       closed                  Ringhaver Heliport  28.846600   \n",
       "20       6538       closed  Bailey Generation Station Heliport  41.644501   \n",
       "40       6555       closed                      Exit 3 Airport  41.590476   \n",
       "...       ...          ...                                 ...        ...   \n",
       "76293  329802       closed                     Makuti Airstrip -16.344021   \n",
       "76298   31259       closed                (Old) Rusape Airport -18.533001   \n",
       "76310  351703       closed                    Mbuhulu Airstrip -19.509961   \n",
       "76358  342103       closed                   Mt Logan Airstrip  60.792990   \n",
       "76365  342102       closed              Scandium City Heliport  69.355287   \n",
       "\n",
       "        Longitude  Elevation Continent Country Region         Municipality  \\\n",
       "5      -91.254898      237.0       NaN      US  US-AR              Newport   \n",
       "11    -104.344002     4830.0       NaN      US  US-CO           Briggsdale   \n",
       "13     -82.345398       25.0       NaN      US  US-FL            Riverview   \n",
       "20     -87.122803      600.0       NaN      US  US-IN           Chesterton   \n",
       "40     -84.141583      785.0       NaN      US  US-OH              Wauseon   \n",
       "...           ...        ...       ...     ...    ...                  ...   \n",
       "76293   29.202102     3268.0        AF      ZW  ZW-MW               Makuti   \n",
       "76298   32.132999     4560.0        AF      ZW  ZW-MA               Rusape   \n",
       "76310   27.408571     3370.0        AF      ZW  ZW-MN          Mbuhulu Pan   \n",
       "76358 -138.694027     1997.0       NaN      CA  CA-YT    Unorganized Yukon   \n",
       "76365 -138.939310        4.0       NaN      CA  CA-YT  (Old) Scandium City   \n",
       "\n",
       "      Scheduled_service Gps_code  \n",
       "5                    no      NaN  \n",
       "11                   no      NaN  \n",
       "13                   no      NaN  \n",
       "20                   no      NaN  \n",
       "40                   no      NaN  \n",
       "...                 ...      ...  \n",
       "76293                no      NaN  \n",
       "76298                no      NaN  \n",
       "76310                no      NaN  \n",
       "76358                no      NaN  \n",
       "76365                no      NaN  \n",
       "\n",
       "[10798 rows x 12 columns]"
      ]
     },
     "execution_count": 25,
     "metadata": {},
     "output_type": "execute_result"
    }
   ],
   "source": [
    "# Airports that are Closed\n",
    "df[df['Airport_type'] == 'closed']"
   ]
  },
  {
   "cell_type": "code",
   "execution_count": 26,
   "id": "3eb93875",
   "metadata": {
    "execution": {
     "iopub.execute_input": "2023-10-07T13:02:44.447732Z",
     "iopub.status.busy": "2023-10-07T13:02:44.447405Z",
     "iopub.status.idle": "2023-10-07T13:02:44.476121Z",
     "shell.execute_reply": "2023-10-07T13:02:44.475038Z"
    },
    "papermill": {
     "duration": 0.050048,
     "end_time": "2023-10-07T13:02:44.478520",
     "exception": false,
     "start_time": "2023-10-07T13:02:44.428472",
     "status": "completed"
    },
    "tags": []
   },
   "outputs": [],
   "source": [
    "df.drop(df[df['Airport_type'] =='closed'].index,inplace=True)"
   ]
  },
  {
   "cell_type": "code",
   "execution_count": 27,
   "id": "2d072c42",
   "metadata": {
    "execution": {
     "iopub.execute_input": "2023-10-07T13:02:44.522520Z",
     "iopub.status.busy": "2023-10-07T13:02:44.522155Z",
     "iopub.status.idle": "2023-10-07T13:02:44.533817Z",
     "shell.execute_reply": "2023-10-07T13:02:44.531558Z"
    },
    "papermill": {
     "duration": 0.035389,
     "end_time": "2023-10-07T13:02:44.537149",
     "exception": false,
     "start_time": "2023-10-07T13:02:44.501760",
     "status": "completed"
    },
    "tags": []
   },
   "outputs": [
    {
     "data": {
      "text/plain": [
       "array(['heliport', 'small_airport', 'seaplane_base', 'balloonport',\n",
       "       'medium_airport', 'large_airport'], dtype=object)"
      ]
     },
     "execution_count": 27,
     "metadata": {},
     "output_type": "execute_result"
    }
   ],
   "source": [
    "df['Airport_type'].unique()"
   ]
  },
  {
   "cell_type": "code",
   "execution_count": 28,
   "id": "e49f281b",
   "metadata": {
    "execution": {
     "iopub.execute_input": "2023-10-07T13:02:44.580192Z",
     "iopub.status.busy": "2023-10-07T13:02:44.578655Z",
     "iopub.status.idle": "2023-10-07T13:02:44.606130Z",
     "shell.execute_reply": "2023-10-07T13:02:44.604978Z"
    },
    "papermill": {
     "duration": 0.049847,
     "end_time": "2023-10-07T13:02:44.609159",
     "exception": false,
     "start_time": "2023-10-07T13:02:44.559312",
     "status": "completed"
    },
    "tags": []
   },
   "outputs": [
    {
     "data": {
      "text/html": [
       "<div>\n",
       "<style scoped>\n",
       "    .dataframe tbody tr th:only-of-type {\n",
       "        vertical-align: middle;\n",
       "    }\n",
       "\n",
       "    .dataframe tbody tr th {\n",
       "        vertical-align: top;\n",
       "    }\n",
       "\n",
       "    .dataframe thead th {\n",
       "        text-align: right;\n",
       "    }\n",
       "</style>\n",
       "<table border=\"1\" class=\"dataframe\">\n",
       "  <thead>\n",
       "    <tr style=\"text-align: right;\">\n",
       "      <th></th>\n",
       "      <th>Continent</th>\n",
       "      <th>Country</th>\n",
       "    </tr>\n",
       "  </thead>\n",
       "  <tbody>\n",
       "    <tr>\n",
       "      <th>0</th>\n",
       "      <td>SA</td>\n",
       "      <td>10062</td>\n",
       "    </tr>\n",
       "    <tr>\n",
       "      <th>1</th>\n",
       "      <td>AS</td>\n",
       "      <td>9958</td>\n",
       "    </tr>\n",
       "    <tr>\n",
       "      <th>2</th>\n",
       "      <td>EU</td>\n",
       "      <td>8598</td>\n",
       "    </tr>\n",
       "    <tr>\n",
       "      <th>3</th>\n",
       "      <td>AF</td>\n",
       "      <td>3787</td>\n",
       "    </tr>\n",
       "    <tr>\n",
       "      <th>4</th>\n",
       "      <td>OC</td>\n",
       "      <td>3681</td>\n",
       "    </tr>\n",
       "    <tr>\n",
       "      <th>5</th>\n",
       "      <td>AN</td>\n",
       "      <td>39</td>\n",
       "    </tr>\n",
       "  </tbody>\n",
       "</table>\n",
       "</div>"
      ],
      "text/plain": [
       "  Continent  Country\n",
       "0        SA    10062\n",
       "1        AS     9958\n",
       "2        EU     8598\n",
       "3        AF     3787\n",
       "4        OC     3681\n",
       "5        AN       39"
      ]
     },
     "execution_count": 28,
     "metadata": {},
     "output_type": "execute_result"
    }
   ],
   "source": [
    "Country_counts = df.groupby('Continent')['Country'].count().reset_index()\n",
    "df2 = Country_counts.sort_values(by='Country',ascending=False,ignore_index=True)\n",
    "df2"
   ]
  },
  {
   "cell_type": "code",
   "execution_count": 29,
   "id": "3349a67c",
   "metadata": {
    "execution": {
     "iopub.execute_input": "2023-10-07T13:02:44.653710Z",
     "iopub.status.busy": "2023-10-07T13:02:44.653303Z",
     "iopub.status.idle": "2023-10-07T13:02:44.852668Z",
     "shell.execute_reply": "2023-10-07T13:02:44.851623Z"
    },
    "papermill": {
     "duration": 0.225427,
     "end_time": "2023-10-07T13:02:44.855280",
     "exception": false,
     "start_time": "2023-10-07T13:02:44.629853",
     "status": "completed"
    },
    "tags": []
   },
   "outputs": [
    {
     "data": {
      "image/png": "[encoded data removed]",
      "text/plain": [
       "<Figure size 640x480 with 1 Axes>"
      ]
     },
     "metadata": {},
     "output_type": "display_data"
    }
   ],
   "source": [
    "sns.barplot(x='Continent',y='Country',data=df2)\n",
    "plt.show()"
   ]
  },
  {
   "cell_type": "code",
   "execution_count": 30,
   "id": "236afcba",
   "metadata": {
    "execution": {
     "iopub.execute_input": "2023-10-07T13:02:44.896787Z",
     "iopub.status.busy": "2023-10-07T13:02:44.895964Z",
     "iopub.status.idle": "2023-10-07T13:02:44.918685Z",
     "shell.execute_reply": "2023-10-07T13:02:44.917487Z"
    },
    "papermill": {
     "duration": 0.045809,
     "end_time": "2023-10-07T13:02:44.921457",
     "exception": false,
     "start_time": "2023-10-07T13:02:44.875648",
     "status": "completed"
    },
    "tags": []
   },
   "outputs": [
    {
     "data": {
      "text/html": [
       "<div>\n",
       "<style scoped>\n",
       "    .dataframe tbody tr th:only-of-type {\n",
       "        vertical-align: middle;\n",
       "    }\n",
       "\n",
       "    .dataframe tbody tr th {\n",
       "        vertical-align: top;\n",
       "    }\n",
       "\n",
       "    .dataframe thead th {\n",
       "        text-align: right;\n",
       "    }\n",
       "</style>\n",
       "<table border=\"1\" class=\"dataframe\">\n",
       "  <thead>\n",
       "    <tr style=\"text-align: right;\">\n",
       "      <th></th>\n",
       "      <th>Airport_type</th>\n",
       "      <th>Name</th>\n",
       "      <th>Continent</th>\n",
       "      <th>Country</th>\n",
       "      <th>Region</th>\n",
       "      <th>Municipality</th>\n",
       "      <th>Scheduled_service</th>\n",
       "      <th>Gps_code</th>\n",
       "    </tr>\n",
       "  </thead>\n",
       "  <tbody>\n",
       "    <tr>\n",
       "      <th>0</th>\n",
       "      <td>heliport</td>\n",
       "      <td>Total RF Heliport</td>\n",
       "      <td>NaN</td>\n",
       "      <td>US</td>\n",
       "      <td>US-PA</td>\n",
       "      <td>Bensalem</td>\n",
       "      <td>no</td>\n",
       "      <td>K00A</td>\n",
       "    </tr>\n",
       "    <tr>\n",
       "      <th>1</th>\n",
       "      <td>small_airport</td>\n",
       "      <td>Aero B Ranch Airport</td>\n",
       "      <td>NaN</td>\n",
       "      <td>US</td>\n",
       "      <td>US-KS</td>\n",
       "      <td>Leoti</td>\n",
       "      <td>no</td>\n",
       "      <td>00AA</td>\n",
       "    </tr>\n",
       "    <tr>\n",
       "      <th>2</th>\n",
       "      <td>small_airport</td>\n",
       "      <td>Lowell Field</td>\n",
       "      <td>NaN</td>\n",
       "      <td>US</td>\n",
       "      <td>US-AK</td>\n",
       "      <td>Anchor Point</td>\n",
       "      <td>no</td>\n",
       "      <td>00AK</td>\n",
       "    </tr>\n",
       "    <tr>\n",
       "      <th>3</th>\n",
       "      <td>small_airport</td>\n",
       "      <td>Epps Airpark</td>\n",
       "      <td>NaN</td>\n",
       "      <td>US</td>\n",
       "      <td>US-AL</td>\n",
       "      <td>Harvest</td>\n",
       "      <td>no</td>\n",
       "      <td>00AL</td>\n",
       "    </tr>\n",
       "    <tr>\n",
       "      <th>4</th>\n",
       "      <td>small_airport</td>\n",
       "      <td>Katmai Lodge Airport</td>\n",
       "      <td>NaN</td>\n",
       "      <td>US</td>\n",
       "      <td>US-AK</td>\n",
       "      <td>King Salmon</td>\n",
       "      <td>no</td>\n",
       "      <td>00AN</td>\n",
       "    </tr>\n",
       "    <tr>\n",
       "      <th>...</th>\n",
       "      <td>...</td>\n",
       "      <td>...</td>\n",
       "      <td>...</td>\n",
       "      <td>...</td>\n",
       "      <td>...</td>\n",
       "      <td>...</td>\n",
       "      <td>...</td>\n",
       "      <td>...</td>\n",
       "    </tr>\n",
       "    <tr>\n",
       "      <th>76361</th>\n",
       "      <td>medium_airport</td>\n",
       "      <td>Shenyang Dongta Airport</td>\n",
       "      <td>AS</td>\n",
       "      <td>CN</td>\n",
       "      <td>CN-21</td>\n",
       "      <td>Dadong, Shenyang</td>\n",
       "      <td>no</td>\n",
       "      <td>ZYYY</td>\n",
       "    </tr>\n",
       "    <tr>\n",
       "      <th>76362</th>\n",
       "      <td>heliport</td>\n",
       "      <td>Sealand Helipad</td>\n",
       "      <td>EU</td>\n",
       "      <td>GB</td>\n",
       "      <td>GB-ENG</td>\n",
       "      <td>Sealand</td>\n",
       "      <td>no</td>\n",
       "      <td>NaN</td>\n",
       "    </tr>\n",
       "    <tr>\n",
       "      <th>76363</th>\n",
       "      <td>small_airport</td>\n",
       "      <td>Glorioso Islands Airstrip</td>\n",
       "      <td>AF</td>\n",
       "      <td>TF</td>\n",
       "      <td>TF-U-A</td>\n",
       "      <td>Grande Glorieuse</td>\n",
       "      <td>no</td>\n",
       "      <td>NaN</td>\n",
       "    </tr>\n",
       "    <tr>\n",
       "      <th>76364</th>\n",
       "      <td>small_airport</td>\n",
       "      <td>Fainting Goat Airport</td>\n",
       "      <td>NaN</td>\n",
       "      <td>US</td>\n",
       "      <td>US-TX</td>\n",
       "      <td>Blum</td>\n",
       "      <td>no</td>\n",
       "      <td>87TX</td>\n",
       "    </tr>\n",
       "    <tr>\n",
       "      <th>76366</th>\n",
       "      <td>small_airport</td>\n",
       "      <td>Satsuma Iōjima Airport</td>\n",
       "      <td>AS</td>\n",
       "      <td>JP</td>\n",
       "      <td>JP-46</td>\n",
       "      <td>Mishima</td>\n",
       "      <td>no</td>\n",
       "      <td>RJX7</td>\n",
       "    </tr>\n",
       "  </tbody>\n",
       "</table>\n",
       "<p>65569 rows × 8 columns</p>\n",
       "</div>"
      ],
      "text/plain": [
       "         Airport_type                       Name Continent Country  Region  \\\n",
       "0            heliport          Total RF Heliport       NaN      US   US-PA   \n",
       "1       small_airport       Aero B Ranch Airport       NaN      US   US-KS   \n",
       "2       small_airport               Lowell Field       NaN      US   US-AK   \n",
       "3       small_airport               Epps Airpark       NaN      US   US-AL   \n",
       "4       small_airport       Katmai Lodge Airport       NaN      US   US-AK   \n",
       "...               ...                        ...       ...     ...     ...   \n",
       "76361  medium_airport    Shenyang Dongta Airport        AS      CN   CN-21   \n",
       "76362        heliport            Sealand Helipad        EU      GB  GB-ENG   \n",
       "76363   small_airport  Glorioso Islands Airstrip        AF      TF  TF-U-A   \n",
       "76364   small_airport      Fainting Goat Airport       NaN      US   US-TX   \n",
       "76366   small_airport     Satsuma Iōjima Airport        AS      JP   JP-46   \n",
       "\n",
       "           Municipality Scheduled_service Gps_code  \n",
       "0              Bensalem                no     K00A  \n",
       "1                 Leoti                no     00AA  \n",
       "2          Anchor Point                no     00AK  \n",
       "3               Harvest                no     00AL  \n",
       "4           King Salmon                no     00AN  \n",
       "...                 ...               ...      ...  \n",
       "76361  Dadong, Shenyang                no     ZYYY  \n",
       "76362           Sealand                no      NaN  \n",
       "76363  Grande Glorieuse                no      NaN  \n",
       "76364              Blum                no     87TX  \n",
       "76366           Mishima                no     RJX7  \n",
       "\n",
       "[65569 rows x 8 columns]"
      ]
     },
     "execution_count": 30,
     "metadata": {},
     "output_type": "execute_result"
    }
   ],
   "source": [
    "df[categorical_features]"
   ]
  },
  {
   "cell_type": "code",
   "execution_count": 31,
   "id": "14b52141",
   "metadata": {
    "execution": {
     "iopub.execute_input": "2023-10-07T13:02:44.979969Z",
     "iopub.status.busy": "2023-10-07T13:02:44.979190Z",
     "iopub.status.idle": "2023-10-07T13:02:45.171248Z",
     "shell.execute_reply": "2023-10-07T13:02:45.169987Z"
    },
    "papermill": {
     "duration": 0.224885,
     "end_time": "2023-10-07T13:02:45.173431",
     "exception": false,
     "start_time": "2023-10-07T13:02:44.948546",
     "status": "completed"
    },
    "tags": []
   },
   "outputs": [
    {
     "data": {
      "text/html": [
       "<div>\n",
       "<style scoped>\n",
       "    .dataframe tbody tr th:only-of-type {\n",
       "        vertical-align: middle;\n",
       "    }\n",
       "\n",
       "    .dataframe tbody tr th {\n",
       "        vertical-align: top;\n",
       "    }\n",
       "\n",
       "    .dataframe thead th {\n",
       "        text-align: right;\n",
       "    }\n",
       "</style>\n",
       "<table border=\"1\" class=\"dataframe\">\n",
       "  <thead>\n",
       "    <tr style=\"text-align: right;\">\n",
       "      <th></th>\n",
       "      <th>Airport_type</th>\n",
       "      <th>Scheduled_service</th>\n",
       "      <th>Country</th>\n",
       "      <th>Name</th>\n",
       "    </tr>\n",
       "  </thead>\n",
       "  <tbody>\n",
       "    <tr>\n",
       "      <th>0</th>\n",
       "      <td>balloonport</td>\n",
       "      <td>no</td>\n",
       "      <td>AR</td>\n",
       "      <td>El Manantial Airport</td>\n",
       "    </tr>\n",
       "    <tr>\n",
       "      <th>1</th>\n",
       "      <td>balloonport</td>\n",
       "      <td>no</td>\n",
       "      <td>US</td>\n",
       "      <td>Characters in Flight Balloonport</td>\n",
       "    </tr>\n",
       "    <tr>\n",
       "      <th>2</th>\n",
       "      <td>balloonport</td>\n",
       "      <td>no</td>\n",
       "      <td>US</td>\n",
       "      <td>Clinton Elks Lodge Balloonport</td>\n",
       "    </tr>\n",
       "    <tr>\n",
       "      <th>3</th>\n",
       "      <td>balloonport</td>\n",
       "      <td>no</td>\n",
       "      <td>US</td>\n",
       "      <td>Cudjoe Key North TARS Site</td>\n",
       "    </tr>\n",
       "    <tr>\n",
       "      <th>4</th>\n",
       "      <td>balloonport</td>\n",
       "      <td>no</td>\n",
       "      <td>US</td>\n",
       "      <td>Cudjoe Key South TARS Site</td>\n",
       "    </tr>\n",
       "    <tr>\n",
       "      <th>...</th>\n",
       "      <td>...</td>\n",
       "      <td>...</td>\n",
       "      <td>...</td>\n",
       "      <td>...</td>\n",
       "    </tr>\n",
       "    <tr>\n",
       "      <th>63051</th>\n",
       "      <td>small_airport</td>\n",
       "      <td>no</td>\n",
       "      <td>GB</td>\n",
       "      <td>Dairy House Farm Airfield</td>\n",
       "    </tr>\n",
       "    <tr>\n",
       "      <th>63052</th>\n",
       "      <td>small_airport</td>\n",
       "      <td>no</td>\n",
       "      <td>GB</td>\n",
       "      <td>Dalkeith Farm Airstrip</td>\n",
       "    </tr>\n",
       "    <tr>\n",
       "      <th>63053</th>\n",
       "      <td>small_airport</td>\n",
       "      <td>no</td>\n",
       "      <td>GB</td>\n",
       "      <td>Damyns Hall Aerodrome</td>\n",
       "    </tr>\n",
       "    <tr>\n",
       "      <th>63054</th>\n",
       "      <td>small_airport</td>\n",
       "      <td>no</td>\n",
       "      <td>GB</td>\n",
       "      <td>Crosbie Field UL</td>\n",
       "    </tr>\n",
       "    <tr>\n",
       "      <th>63055</th>\n",
       "      <td>small_airport</td>\n",
       "      <td>yes</td>\n",
       "      <td>ZM</td>\n",
       "      <td>Solwesi Airport</td>\n",
       "    </tr>\n",
       "  </tbody>\n",
       "</table>\n",
       "<p>63056 rows × 4 columns</p>\n",
       "</div>"
      ],
      "text/plain": [
       "        Airport_type Scheduled_service Country  \\\n",
       "0        balloonport                no      AR   \n",
       "1        balloonport                no      US   \n",
       "2        balloonport                no      US   \n",
       "3        balloonport                no      US   \n",
       "4        balloonport                no      US   \n",
       "...              ...               ...     ...   \n",
       "63051  small_airport                no      GB   \n",
       "63052  small_airport                no      GB   \n",
       "63053  small_airport                no      GB   \n",
       "63054  small_airport                no      GB   \n",
       "63055  small_airport               yes      ZM   \n",
       "\n",
       "                                   Name  \n",
       "0                  El Manantial Airport  \n",
       "1      Characters in Flight Balloonport  \n",
       "2        Clinton Elks Lodge Balloonport  \n",
       "3            Cudjoe Key North TARS Site  \n",
       "4            Cudjoe Key South TARS Site  \n",
       "...                                 ...  \n",
       "63051         Dairy House Farm Airfield  \n",
       "63052            Dalkeith Farm Airstrip  \n",
       "63053             Damyns Hall Aerodrome  \n",
       "63054                  Crosbie Field UL  \n",
       "63055                   Solwesi Airport  \n",
       "\n",
       "[63056 rows x 4 columns]"
      ]
     },
     "execution_count": 31,
     "metadata": {},
     "output_type": "execute_result"
    }
   ],
   "source": [
    "# Scheduled_service with respect to Airport Type\n",
    "Scheduled_service = df[['Airport_type','Scheduled_service','Name','Country']]\n",
    "Country_counts = Scheduled_service.groupby(['Airport_type','Scheduled_service','Country','Name']).count().reset_index()\n",
    "Country_counts.sort_values(by='Airport_type',ignore_index=True)"
   ]
  },
  {
   "cell_type": "code",
   "execution_count": 32,
   "id": "4224c56a",
   "metadata": {
    "execution": {
     "iopub.execute_input": "2023-10-07T13:02:45.213648Z",
     "iopub.status.busy": "2023-10-07T13:02:45.213250Z",
     "iopub.status.idle": "2023-10-07T13:02:45.239714Z",
     "shell.execute_reply": "2023-10-07T13:02:45.238321Z"
    },
    "papermill": {
     "duration": 0.049823,
     "end_time": "2023-10-07T13:02:45.242553",
     "exception": false,
     "start_time": "2023-10-07T13:02:45.192730",
     "status": "completed"
    },
    "tags": []
   },
   "outputs": [
    {
     "data": {
      "text/html": [
       "<div>\n",
       "<style scoped>\n",
       "    .dataframe tbody tr th:only-of-type {\n",
       "        vertical-align: middle;\n",
       "    }\n",
       "\n",
       "    .dataframe tbody tr th {\n",
       "        vertical-align: top;\n",
       "    }\n",
       "\n",
       "    .dataframe thead th {\n",
       "        text-align: right;\n",
       "    }\n",
       "</style>\n",
       "<table border=\"1\" class=\"dataframe\">\n",
       "  <thead>\n",
       "    <tr style=\"text-align: right;\">\n",
       "      <th></th>\n",
       "      <th>Airport_type</th>\n",
       "      <th>Scheduled_service</th>\n",
       "      <th>Country</th>\n",
       "      <th>Name</th>\n",
       "    </tr>\n",
       "  </thead>\n",
       "  <tbody>\n",
       "    <tr>\n",
       "      <th>0</th>\n",
       "      <td>balloonport</td>\n",
       "      <td>no</td>\n",
       "      <td>AR</td>\n",
       "      <td>El Manantial Airport</td>\n",
       "    </tr>\n",
       "    <tr>\n",
       "      <th>1</th>\n",
       "      <td>balloonport</td>\n",
       "      <td>no</td>\n",
       "      <td>BE</td>\n",
       "      <td>Céroux-Mousty Balloon Field</td>\n",
       "    </tr>\n",
       "    <tr>\n",
       "      <th>2</th>\n",
       "      <td>balloonport</td>\n",
       "      <td>no</td>\n",
       "      <td>CA</td>\n",
       "      <td>High River Balloonport</td>\n",
       "    </tr>\n",
       "    <tr>\n",
       "      <th>3</th>\n",
       "      <td>balloonport</td>\n",
       "      <td>no</td>\n",
       "      <td>CN</td>\n",
       "      <td>Balloon Launch Facility</td>\n",
       "    </tr>\n",
       "    <tr>\n",
       "      <th>4</th>\n",
       "      <td>balloonport</td>\n",
       "      <td>no</td>\n",
       "      <td>DE</td>\n",
       "      <td>Balloonport Bitterfeld</td>\n",
       "    </tr>\n",
       "    <tr>\n",
       "      <th>5</th>\n",
       "      <td>balloonport</td>\n",
       "      <td>no</td>\n",
       "      <td>DE</td>\n",
       "      <td>Köln-Sülz Balloonport</td>\n",
       "    </tr>\n",
       "    <tr>\n",
       "      <th>6</th>\n",
       "      <td>balloonport</td>\n",
       "      <td>no</td>\n",
       "      <td>ES</td>\n",
       "      <td>Globedrom de Son Perot</td>\n",
       "    </tr>\n",
       "    <tr>\n",
       "      <th>7</th>\n",
       "      <td>balloonport</td>\n",
       "      <td>no</td>\n",
       "      <td>FR</td>\n",
       "      <td>Cérizols Balloonport</td>\n",
       "    </tr>\n",
       "    <tr>\n",
       "      <th>8</th>\n",
       "      <td>balloonport</td>\n",
       "      <td>no</td>\n",
       "      <td>GB</td>\n",
       "      <td>Black Horse Ballooning Club</td>\n",
       "    </tr>\n",
       "    <tr>\n",
       "      <th>9</th>\n",
       "      <td>balloonport</td>\n",
       "      <td>no</td>\n",
       "      <td>GB</td>\n",
       "      <td>Lydiard Park</td>\n",
       "    </tr>\n",
       "    <tr>\n",
       "      <th>10</th>\n",
       "      <td>balloonport</td>\n",
       "      <td>no</td>\n",
       "      <td>JP</td>\n",
       "      <td>Matsushima Balloonport</td>\n",
       "    </tr>\n",
       "    <tr>\n",
       "      <th>11</th>\n",
       "      <td>balloonport</td>\n",
       "      <td>no</td>\n",
       "      <td>JP</td>\n",
       "      <td>Niseko Balloonport</td>\n",
       "    </tr>\n",
       "    <tr>\n",
       "      <th>12</th>\n",
       "      <td>balloonport</td>\n",
       "      <td>no</td>\n",
       "      <td>JP</td>\n",
       "      <td>Saga International Balloon Fiesta Balloonport</td>\n",
       "    </tr>\n",
       "    <tr>\n",
       "      <th>13</th>\n",
       "      <td>balloonport</td>\n",
       "      <td>no</td>\n",
       "      <td>LA</td>\n",
       "      <td>Above Laos Ballooning</td>\n",
       "    </tr>\n",
       "    <tr>\n",
       "      <th>14</th>\n",
       "      <td>balloonport</td>\n",
       "      <td>no</td>\n",
       "      <td>LK</td>\n",
       "      <td>Dambulla Balloonpoprt</td>\n",
       "    </tr>\n",
       "    <tr>\n",
       "      <th>15</th>\n",
       "      <td>balloonport</td>\n",
       "      <td>no</td>\n",
       "      <td>PH</td>\n",
       "      <td>Clark Balloonport</td>\n",
       "    </tr>\n",
       "    <tr>\n",
       "      <th>16</th>\n",
       "      <td>balloonport</td>\n",
       "      <td>no</td>\n",
       "      <td>TR</td>\n",
       "      <td>Nevşehir Heliport</td>\n",
       "    </tr>\n",
       "    <tr>\n",
       "      <th>17</th>\n",
       "      <td>balloonport</td>\n",
       "      <td>no</td>\n",
       "      <td>TW</td>\n",
       "      <td>Skyrainbow Balloonport</td>\n",
       "    </tr>\n",
       "    <tr>\n",
       "      <th>18</th>\n",
       "      <td>balloonport</td>\n",
       "      <td>no</td>\n",
       "      <td>US</td>\n",
       "      <td>Aeronut Park Balloonport</td>\n",
       "    </tr>\n",
       "    <tr>\n",
       "      <th>19</th>\n",
       "      <td>balloonport</td>\n",
       "      <td>no</td>\n",
       "      <td>US</td>\n",
       "      <td>Alba Vineyard Balloonport</td>\n",
       "    </tr>\n",
       "  </tbody>\n",
       "</table>\n",
       "</div>"
      ],
      "text/plain": [
       "   Airport_type Scheduled_service Country  \\\n",
       "0   balloonport                no      AR   \n",
       "1   balloonport                no      BE   \n",
       "2   balloonport                no      CA   \n",
       "3   balloonport                no      CN   \n",
       "4   balloonport                no      DE   \n",
       "5   balloonport                no      DE   \n",
       "6   balloonport                no      ES   \n",
       "7   balloonport                no      FR   \n",
       "8   balloonport                no      GB   \n",
       "9   balloonport                no      GB   \n",
       "10  balloonport                no      JP   \n",
       "11  balloonport                no      JP   \n",
       "12  balloonport                no      JP   \n",
       "13  balloonport                no      LA   \n",
       "14  balloonport                no      LK   \n",
       "15  balloonport                no      PH   \n",
       "16  balloonport                no      TR   \n",
       "17  balloonport                no      TW   \n",
       "18  balloonport                no      US   \n",
       "19  balloonport                no      US   \n",
       "\n",
       "                                             Name  \n",
       "0                            El Manantial Airport  \n",
       "1                     Céroux-Mousty Balloon Field  \n",
       "2                          High River Balloonport  \n",
       "3                         Balloon Launch Facility  \n",
       "4                          Balloonport Bitterfeld  \n",
       "5                           Köln-Sülz Balloonport  \n",
       "6                          Globedrom de Son Perot  \n",
       "7                            Cérizols Balloonport  \n",
       "8                     Black Horse Ballooning Club  \n",
       "9                                    Lydiard Park  \n",
       "10                         Matsushima Balloonport  \n",
       "11                             Niseko Balloonport  \n",
       "12  Saga International Balloon Fiesta Balloonport  \n",
       "13                          Above Laos Ballooning  \n",
       "14                          Dambulla Balloonpoprt  \n",
       "15                              Clark Balloonport  \n",
       "16                              Nevşehir Heliport  \n",
       "17                         Skyrainbow Balloonport  \n",
       "18                       Aeronut Park Balloonport  \n",
       "19                      Alba Vineyard Balloonport  "
      ]
     },
     "execution_count": 32,
     "metadata": {},
     "output_type": "execute_result"
    }
   ],
   "source": [
    "# List of Countries Not Providing Scheduled_service\n",
    "list(Country_counts.groupby(\"Scheduled_service\"))[0][1].head(20)"
   ]
  },
  {
   "cell_type": "code",
   "execution_count": 33,
   "id": "77e2d064",
   "metadata": {
    "execution": {
     "iopub.execute_input": "2023-10-07T13:02:45.285380Z",
     "iopub.status.busy": "2023-10-07T13:02:45.283887Z",
     "iopub.status.idle": "2023-10-07T13:02:45.309924Z",
     "shell.execute_reply": "2023-10-07T13:02:45.309135Z"
    },
    "papermill": {
     "duration": 0.049692,
     "end_time": "2023-10-07T13:02:45.312131",
     "exception": false,
     "start_time": "2023-10-07T13:02:45.262439",
     "status": "completed"
    },
    "tags": []
   },
   "outputs": [
    {
     "data": {
      "text/html": [
       "<div>\n",
       "<style scoped>\n",
       "    .dataframe tbody tr th:only-of-type {\n",
       "        vertical-align: middle;\n",
       "    }\n",
       "\n",
       "    .dataframe tbody tr th {\n",
       "        vertical-align: top;\n",
       "    }\n",
       "\n",
       "    .dataframe thead th {\n",
       "        text-align: right;\n",
       "    }\n",
       "</style>\n",
       "<table border=\"1\" class=\"dataframe\">\n",
       "  <thead>\n",
       "    <tr style=\"text-align: right;\">\n",
       "      <th></th>\n",
       "      <th>Airport_type</th>\n",
       "      <th>Scheduled_service</th>\n",
       "      <th>Country</th>\n",
       "      <th>Name</th>\n",
       "    </tr>\n",
       "  </thead>\n",
       "  <tbody>\n",
       "    <tr>\n",
       "      <th>18810</th>\n",
       "      <td>heliport</td>\n",
       "      <td>yes</td>\n",
       "      <td>AF</td>\n",
       "      <td>Qara Tepa Heliport</td>\n",
       "    </tr>\n",
       "    <tr>\n",
       "      <th>18811</th>\n",
       "      <td>heliport</td>\n",
       "      <td>yes</td>\n",
       "      <td>BR</td>\n",
       "      <td>Banespa República Heliport</td>\n",
       "    </tr>\n",
       "    <tr>\n",
       "      <th>18812</th>\n",
       "      <td>heliport</td>\n",
       "      <td>yes</td>\n",
       "      <td>BR</td>\n",
       "      <td>Batalhão de Operações Aéreas do CBMSC Heliport</td>\n",
       "    </tr>\n",
       "    <tr>\n",
       "      <th>18813</th>\n",
       "      <td>heliport</td>\n",
       "      <td>yes</td>\n",
       "      <td>BR</td>\n",
       "      <td>Cooperativa Lar Heliport</td>\n",
       "    </tr>\n",
       "    <tr>\n",
       "      <th>18814</th>\n",
       "      <td>heliport</td>\n",
       "      <td>yes</td>\n",
       "      <td>BR</td>\n",
       "      <td>Eletrocity Heliport</td>\n",
       "    </tr>\n",
       "    <tr>\n",
       "      <th>18815</th>\n",
       "      <td>heliport</td>\n",
       "      <td>yes</td>\n",
       "      <td>BR</td>\n",
       "      <td>N. S. A. Heliport</td>\n",
       "    </tr>\n",
       "    <tr>\n",
       "      <th>18816</th>\n",
       "      <td>heliport</td>\n",
       "      <td>yes</td>\n",
       "      <td>BR</td>\n",
       "      <td>Sikorski Heliport</td>\n",
       "    </tr>\n",
       "    <tr>\n",
       "      <th>18817</th>\n",
       "      <td>heliport</td>\n",
       "      <td>yes</td>\n",
       "      <td>CA</td>\n",
       "      <td>Campbell River (E &amp; B Heli) Heliport</td>\n",
       "    </tr>\n",
       "    <tr>\n",
       "      <th>18818</th>\n",
       "      <td>heliport</td>\n",
       "      <td>yes</td>\n",
       "      <td>CN</td>\n",
       "      <td>Fuzhou Zhuqi Heliport</td>\n",
       "    </tr>\n",
       "    <tr>\n",
       "      <th>18819</th>\n",
       "      <td>heliport</td>\n",
       "      <td>yes</td>\n",
       "      <td>EE</td>\n",
       "      <td>Tallinn Linnahall Heliport</td>\n",
       "    </tr>\n",
       "    <tr>\n",
       "      <th>18820</th>\n",
       "      <td>heliport</td>\n",
       "      <td>yes</td>\n",
       "      <td>ES</td>\n",
       "      <td>Algeciras Heliport</td>\n",
       "    </tr>\n",
       "    <tr>\n",
       "      <th>18821</th>\n",
       "      <td>heliport</td>\n",
       "      <td>yes</td>\n",
       "      <td>ES</td>\n",
       "      <td>Ceuta Heliport</td>\n",
       "    </tr>\n",
       "    <tr>\n",
       "      <th>18822</th>\n",
       "      <td>heliport</td>\n",
       "      <td>yes</td>\n",
       "      <td>FO</td>\n",
       "      <td>Boðanes Heliport</td>\n",
       "    </tr>\n",
       "    <tr>\n",
       "      <th>18823</th>\n",
       "      <td>heliport</td>\n",
       "      <td>yes</td>\n",
       "      <td>FO</td>\n",
       "      <td>Froðba Heliport</td>\n",
       "    </tr>\n",
       "    <tr>\n",
       "      <th>18824</th>\n",
       "      <td>heliport</td>\n",
       "      <td>yes</td>\n",
       "      <td>FO</td>\n",
       "      <td>Kirkja Heliport</td>\n",
       "    </tr>\n",
       "    <tr>\n",
       "      <th>18825</th>\n",
       "      <td>heliport</td>\n",
       "      <td>yes</td>\n",
       "      <td>FO</td>\n",
       "      <td>Klaksvík Heliport</td>\n",
       "    </tr>\n",
       "    <tr>\n",
       "      <th>18826</th>\n",
       "      <td>heliport</td>\n",
       "      <td>yes</td>\n",
       "      <td>FO</td>\n",
       "      <td>Koltur Heliport</td>\n",
       "    </tr>\n",
       "    <tr>\n",
       "      <th>18827</th>\n",
       "      <td>heliport</td>\n",
       "      <td>yes</td>\n",
       "      <td>FO</td>\n",
       "      <td>Mykines Heliport</td>\n",
       "    </tr>\n",
       "    <tr>\n",
       "      <th>18828</th>\n",
       "      <td>heliport</td>\n",
       "      <td>yes</td>\n",
       "      <td>FO</td>\n",
       "      <td>Skúvoy Heliport</td>\n",
       "    </tr>\n",
       "    <tr>\n",
       "      <th>18829</th>\n",
       "      <td>heliport</td>\n",
       "      <td>yes</td>\n",
       "      <td>FO</td>\n",
       "      <td>Stóra Dímun Heliport</td>\n",
       "    </tr>\n",
       "  </tbody>\n",
       "</table>\n",
       "</div>"
      ],
      "text/plain": [
       "      Airport_type Scheduled_service Country  \\\n",
       "18810     heliport               yes      AF   \n",
       "18811     heliport               yes      BR   \n",
       "18812     heliport               yes      BR   \n",
       "18813     heliport               yes      BR   \n",
       "18814     heliport               yes      BR   \n",
       "18815     heliport               yes      BR   \n",
       "18816     heliport               yes      BR   \n",
       "18817     heliport               yes      CA   \n",
       "18818     heliport               yes      CN   \n",
       "18819     heliport               yes      EE   \n",
       "18820     heliport               yes      ES   \n",
       "18821     heliport               yes      ES   \n",
       "18822     heliport               yes      FO   \n",
       "18823     heliport               yes      FO   \n",
       "18824     heliport               yes      FO   \n",
       "18825     heliport               yes      FO   \n",
       "18826     heliport               yes      FO   \n",
       "18827     heliport               yes      FO   \n",
       "18828     heliport               yes      FO   \n",
       "18829     heliport               yes      FO   \n",
       "\n",
       "                                                 Name  \n",
       "18810                              Qara Tepa Heliport  \n",
       "18811                      Banespa República Heliport  \n",
       "18812  Batalhão de Operações Aéreas do CBMSC Heliport  \n",
       "18813                        Cooperativa Lar Heliport  \n",
       "18814                             Eletrocity Heliport  \n",
       "18815                               N. S. A. Heliport  \n",
       "18816                               Sikorski Heliport  \n",
       "18817            Campbell River (E & B Heli) Heliport  \n",
       "18818                           Fuzhou Zhuqi Heliport  \n",
       "18819                      Tallinn Linnahall Heliport  \n",
       "18820                              Algeciras Heliport  \n",
       "18821                                  Ceuta Heliport  \n",
       "18822                                Boðanes Heliport  \n",
       "18823                                 Froðba Heliport  \n",
       "18824                                 Kirkja Heliport  \n",
       "18825                               Klaksvík Heliport  \n",
       "18826                                 Koltur Heliport  \n",
       "18827                                Mykines Heliport  \n",
       "18828                                 Skúvoy Heliport  \n",
       "18829                            Stóra Dímun Heliport  "
      ]
     },
     "execution_count": 33,
     "metadata": {},
     "output_type": "execute_result"
    }
   ],
   "source": [
    "# List of Countries Providing Scheduled_service\n",
    "list(Country_counts.groupby(\"Scheduled_service\"))[1][1].head(20)"
   ]
  },
  {
   "cell_type": "code",
   "execution_count": 34,
   "id": "5d6e038e",
   "metadata": {
    "execution": {
     "iopub.execute_input": "2023-10-07T13:02:45.355479Z",
     "iopub.status.busy": "2023-10-07T13:02:45.353907Z",
     "iopub.status.idle": "2023-10-07T13:02:45.396621Z",
     "shell.execute_reply": "2023-10-07T13:02:45.395532Z"
    },
    "papermill": {
     "duration": 0.067443,
     "end_time": "2023-10-07T13:02:45.399186",
     "exception": false,
     "start_time": "2023-10-07T13:02:45.331743",
     "status": "completed"
    },
    "tags": []
   },
   "outputs": [
    {
     "data": {
      "text/html": [
       "<div>\n",
       "<style scoped>\n",
       "    .dataframe tbody tr th:only-of-type {\n",
       "        vertical-align: middle;\n",
       "    }\n",
       "\n",
       "    .dataframe tbody tr th {\n",
       "        vertical-align: top;\n",
       "    }\n",
       "\n",
       "    .dataframe thead th {\n",
       "        text-align: right;\n",
       "    }\n",
       "</style>\n",
       "<table border=\"1\" class=\"dataframe\">\n",
       "  <thead>\n",
       "    <tr style=\"text-align: right;\">\n",
       "      <th></th>\n",
       "      <th></th>\n",
       "      <th>Country</th>\n",
       "      <th>Name</th>\n",
       "    </tr>\n",
       "    <tr>\n",
       "      <th>Airport_type</th>\n",
       "      <th>Scheduled_service</th>\n",
       "      <th></th>\n",
       "      <th></th>\n",
       "    </tr>\n",
       "  </thead>\n",
       "  <tbody>\n",
       "    <tr>\n",
       "      <th>balloonport</th>\n",
       "      <th>no</th>\n",
       "      <td>48</td>\n",
       "      <td>48</td>\n",
       "    </tr>\n",
       "    <tr>\n",
       "      <th rowspan=\"2\" valign=\"top\">heliport</th>\n",
       "      <th>no</th>\n",
       "      <td>18762</td>\n",
       "      <td>18762</td>\n",
       "    </tr>\n",
       "    <tr>\n",
       "      <th>yes</th>\n",
       "      <td>100</td>\n",
       "      <td>100</td>\n",
       "    </tr>\n",
       "    <tr>\n",
       "      <th rowspan=\"2\" valign=\"top\">large_airport</th>\n",
       "      <th>no</th>\n",
       "      <td>9</td>\n",
       "      <td>9</td>\n",
       "    </tr>\n",
       "    <tr>\n",
       "      <th>yes</th>\n",
       "      <td>458</td>\n",
       "      <td>458</td>\n",
       "    </tr>\n",
       "    <tr>\n",
       "      <th rowspan=\"2\" valign=\"top\">medium_airport</th>\n",
       "      <th>no</th>\n",
       "      <td>1957</td>\n",
       "      <td>1957</td>\n",
       "    </tr>\n",
       "    <tr>\n",
       "      <th>yes</th>\n",
       "      <td>2793</td>\n",
       "      <td>2793</td>\n",
       "    </tr>\n",
       "    <tr>\n",
       "      <th rowspan=\"2\" valign=\"top\">seaplane_base</th>\n",
       "      <th>no</th>\n",
       "      <td>1119</td>\n",
       "      <td>1119</td>\n",
       "    </tr>\n",
       "    <tr>\n",
       "      <th>yes</th>\n",
       "      <td>36</td>\n",
       "      <td>36</td>\n",
       "    </tr>\n",
       "    <tr>\n",
       "      <th rowspan=\"2\" valign=\"top\">small_airport</th>\n",
       "      <th>no</th>\n",
       "      <td>36919</td>\n",
       "      <td>36919</td>\n",
       "    </tr>\n",
       "    <tr>\n",
       "      <th>yes</th>\n",
       "      <td>855</td>\n",
       "      <td>855</td>\n",
       "    </tr>\n",
       "  </tbody>\n",
       "</table>\n",
       "</div>"
      ],
      "text/plain": [
       "                                  Country   Name\n",
       "Airport_type   Scheduled_service                \n",
       "balloonport    no                      48     48\n",
       "heliport       no                   18762  18762\n",
       "               yes                    100    100\n",
       "large_airport  no                       9      9\n",
       "               yes                    458    458\n",
       "medium_airport no                    1957   1957\n",
       "               yes                   2793   2793\n",
       "seaplane_base  no                    1119   1119\n",
       "               yes                     36     36\n",
       "small_airport  no                   36919  36919\n",
       "               yes                    855    855"
      ]
     },
     "execution_count": 34,
     "metadata": {},
     "output_type": "execute_result"
    }
   ],
   "source": [
    "Country_counts.groupby([\"Airport_type\",'Scheduled_service']).count().sort_index()"
   ]
  },
  {
   "cell_type": "code",
   "execution_count": 35,
   "id": "225fb6b8",
   "metadata": {
    "execution": {
     "iopub.execute_input": "2023-10-07T13:02:45.445137Z",
     "iopub.status.busy": "2023-10-07T13:02:45.443948Z",
     "iopub.status.idle": "2023-10-07T13:02:48.070840Z",
     "shell.execute_reply": "2023-10-07T13:02:48.069588Z"
    },
    "papermill": {
     "duration": 2.652972,
     "end_time": "2023-10-07T13:02:48.073185",
     "exception": false,
     "start_time": "2023-10-07T13:02:45.420213",
     "status": "completed"
    },
    "tags": []
   },
   "outputs": [
    {
     "data": {
      "text/html": [
       "        <script type=\"text/javascript\">\n",
       "        window.PlotlyConfig = {MathJaxConfig: 'local'};\n",
       "        if (window.MathJax && window.MathJax.Hub && window.MathJax.Hub.Config) {window.MathJax.Hub.Config({SVG: {font: \"STIX-Web\"}});}\n",
       "        if (typeof require !== 'undefined') {\n",
       "        require.undef(\"plotly\");\n",
       "        requirejs.config({\n",
       "            paths: {\n",
       "                'plotly': ['https://cdn.plot.ly/plotly-2.24.1.min']\n",
       "            }\n",
       "        });\n",
       "        require(['plotly'], function(Plotly) {\n",
       "            window._Plotly = Plotly;\n",
       "        });\n",
       "        }\n",
       "        </script>\n",
       "        "
      ]
     },
     "metadata": {},
     "output_type": "display_data"
    },
    {
     "data": {
      "text/html": [
       "<div>                            <div id=\"50f03971-5096-44c1-9423-d512a244148a\" class=\"plotly-graph-div\" style=\"height:525px; width:100%;\"></div>            <script type=\"text/javascript\">                require([\"plotly\"], function(Plotly) {                    window.PLOTLYENV=window.PLOTLYENV || {};                                    if (document.getElementById(\"50f03971-5096-44c1-9423-d512a244148a\")) {                    Plotly.newPlot(                        \"50f03971-5096-44c1-9423-d512a244148a\",                        [{\"alignmentgroup\":\"True\",\"hovertemplate\":\"variable=count\\u003cbr\\u003eAirport_type=%{x}\\u003cbr\\u003evalue=%{y}\\u003cextra\\u003e\\u003c\\u002fextra\\u003e\",\"legendgroup\":\"count\",\"marker\":{\"color\":\"#636efa\",\"pattern\":{\"shape\":\"\"}},\"name\":\"count\",\"offsetgroup\":\"count\",\"orientation\":\"v\",\"showlegend\":true,\"textposition\":\"auto\",\"x\":[\"small_airport\",\"heliport\",\"medium_airport\",\"seaplane_base\",\"large_airport\",\"balloonport\"],\"xaxis\":\"x\",\"y\":[39738,19399,4752,1164,467,49],\"yaxis\":\"y\",\"type\":\"bar\"}],                        {\"template\":{\"data\":{\"histogram2dcontour\":[{\"type\":\"histogram2dcontour\",\"colorbar\":{\"outlinewidth\":0,\"ticks\":\"\"},\"colorscale\":[[0.0,\"#0d0887\"],[0.1111111111111111,\"#46039f\"],[0.2222222222222222,\"#7201a8\"],[0.3333333333333333,\"#9c179e\"],[0.4444444444444444,\"#bd3786\"],[0.5555555555555556,\"#d8576b\"],[0.6666666666666666,\"#ed7953\"],[0.7777777777777778,\"#fb9f3a\"],[0.8888888888888888,\"#fdca26\"],[1.0,\"#f0f921\"]]}],\"choropleth\":[{\"type\":\"choropleth\",\"colorbar\":{\"outlinewidth\":0,\"ticks\":\"\"}}],\"histogram2d\":[{\"type\":\"histogram2d\",\"colorbar\":{\"outlinewidth\":0,\"ticks\":\"\"},\"colorscale\":[[0.0,\"#0d0887\"],[0.1111111111111111,\"#46039f\"],[0.2222222222222222,\"#7201a8\"],[0.3333333333333333,\"#9c179e\"],[0.4444444444444444,\"#bd3786\"],[0.5555555555555556,\"#d8576b\"],[0.6666666666666666,\"#ed7953\"],[0.7777777777777778,\"#fb9f3a\"],[0.8888888888888888,\"#fdca26\"],[1.0,\"#f0f921\"]]}],\"heatmap\":[{\"type\":\"heatmap\",\"colorbar\":{\"outlinewidth\":0,\"ticks\":\"\"},\"colorscale\":[[0.0,\"#0d0887\"],[0.1111111111111111,\"#46039f\"],[0.2222222222222222,\"#7201a8\"],[0.3333333333333333,\"#9c179e\"],[0.4444444444444444,\"#bd3786\"],[0.5555555555555556,\"#d8576b\"],[0.6666666666666666,\"#ed7953\"],[0.7777777777777778,\"#fb9f3a\"],[0.8888888888888888,\"#fdca26\"],[1.0,\"#f0f921\"]]}],\"heatmapgl\":[{\"type\":\"heatmapgl\",\"colorbar\":{\"outlinewidth\":0,\"ticks\":\"\"},\"colorscale\":[[0.0,\"#0d0887\"],[0.1111111111111111,\"#46039f\"],[0.2222222222222222,\"#7201a8\"],[0.3333333333333333,\"#9c179e\"],[0.4444444444444444,\"#bd3786\"],[0.5555555555555556,\"#d8576b\"],[0.6666666666666666,\"#ed7953\"],[0.7777777777777778,\"#fb9f3a\"],[0.8888888888888888,\"#fdca26\"],[1.0,\"#f0f921\"]]}],\"contourcarpet\":[{\"type\":\"contourcarpet\",\"colorbar\":{\"outlinewidth\":0,\"ticks\":\"\"}}],\"contour\":[{\"type\":\"contour\",\"colorbar\":{\"outlinewidth\":0,\"ticks\":\"\"},\"colorscale\":[[0.0,\"#0d0887\"],[0.1111111111111111,\"#46039f\"],[0.2222222222222222,\"#7201a8\"],[0.3333333333333333,\"#9c179e\"],[0.4444444444444444,\"#bd3786\"],[0.5555555555555556,\"#d8576b\"],[0.6666666666666666,\"#ed7953\"],[0.7777777777777778,\"#fb9f3a\"],[0.8888888888888888,\"#fdca26\"],[1.0,\"#f0f921\"]]}],\"surface\":[{\"type\":\"surface\",\"colorbar\":{\"outlinewidth\":0,\"ticks\":\"\"},\"colorscale\":[[0.0,\"#0d0887\"],[0.1111111111111111,\"#46039f\"],[0.2222222222222222,\"#7201a8\"],[0.3333333333333333,\"#9c179e\"],[0.4444444444444444,\"#bd3786\"],[0.5555555555555556,\"#d8576b\"],[0.6666666666666666,\"#ed7953\"],[0.7777777777777778,\"#fb9f3a\"],[0.8888888888888888,\"#fdca26\"],[1.0,\"#f0f921\"]]}],\"mesh3d\":[{\"type\":\"mesh3d\",\"colorbar\":{\"outlinewidth\":0,\"ticks\":\"\"}}],\"scatter\":[{\"fillpattern\":{\"fillmode\":\"overlay\",\"size\":10,\"solidity\":0.2},\"type\":\"scatter\"}],\"parcoords\":[{\"type\":\"parcoords\",\"line\":{\"colorbar\":{\"outlinewidth\":0,\"ticks\":\"\"}}}],\"scatterpolargl\":[{\"type\":\"scatterpolargl\",\"marker\":{\"colorbar\":{\"outlinewidth\":0,\"ticks\":\"\"}}}],\"bar\":[{\"error_x\":{\"color\":\"#2a3f5f\"},\"error_y\":{\"color\":\"#2a3f5f\"},\"marker\":{\"line\":{\"color\":\"#E5ECF6\",\"width\":0.5},\"pattern\":{\"fillmode\":\"overlay\",\"size\":10,\"solidity\":0.2}},\"type\":\"bar\"}],\"scattergeo\":[{\"type\":\"scattergeo\",\"marker\":{\"colorbar\":{\"outlinewidth\":0,\"ticks\":\"\"}}}],\"scatterpolar\":[{\"type\":\"scatterpolar\",\"marker\":{\"colorbar\":{\"outlinewidth\":0,\"ticks\":\"\"}}}],\"histogram\":[{\"marker\":{\"pattern\":{\"fillmode\":\"overlay\",\"size\":10,\"solidity\":0.2}},\"type\":\"histogram\"}],\"scattergl\":[{\"type\":\"scattergl\",\"marker\":{\"colorbar\":{\"outlinewidth\":0,\"ticks\":\"\"}}}],\"scatter3d\":[{\"type\":\"scatter3d\",\"line\":{\"colorbar\":{\"outlinewidth\":0,\"ticks\":\"\"}},\"marker\":{\"colorbar\":{\"outlinewidth\":0,\"ticks\":\"\"}}}],\"scattermapbox\":[{\"type\":\"scattermapbox\",\"marker\":{\"colorbar\":{\"outlinewidth\":0,\"ticks\":\"\"}}}],\"scatterternary\":[{\"type\":\"scatterternary\",\"marker\":{\"colorbar\":{\"outlinewidth\":0,\"ticks\":\"\"}}}],\"scattercarpet\":[{\"type\":\"scattercarpet\",\"marker\":{\"colorbar\":{\"outlinewidth\":0,\"ticks\":\"\"}}}],\"carpet\":[{\"aaxis\":{\"endlinecolor\":\"#2a3f5f\",\"gridcolor\":\"white\",\"linecolor\":\"white\",\"minorgridcolor\":\"white\",\"startlinecolor\":\"#2a3f5f\"},\"baxis\":{\"endlinecolor\":\"#2a3f5f\",\"gridcolor\":\"white\",\"linecolor\":\"white\",\"minorgridcolor\":\"white\",\"startlinecolor\":\"#2a3f5f\"},\"type\":\"carpet\"}],\"table\":[{\"cells\":{\"fill\":{\"color\":\"#EBF0F8\"},\"line\":{\"color\":\"white\"}},\"header\":{\"fill\":{\"color\":\"#C8D4E3\"},\"line\":{\"color\":\"white\"}},\"type\":\"table\"}],\"barpolar\":[{\"marker\":{\"line\":{\"color\":\"#E5ECF6\",\"width\":0.5},\"pattern\":{\"fillmode\":\"overlay\",\"size\":10,\"solidity\":0.2}},\"type\":\"barpolar\"}],\"pie\":[{\"automargin\":true,\"type\":\"pie\"}]},\"layout\":{\"autotypenumbers\":\"strict\",\"colorway\":[\"#636efa\",\"#EF553B\",\"#00cc96\",\"#ab63fa\",\"#FFA15A\",\"#19d3f3\",\"#FF6692\",\"#B6E880\",\"#FF97FF\",\"#FECB52\"],\"font\":{\"color\":\"#2a3f5f\"},\"hovermode\":\"closest\",\"hoverlabel\":{\"align\":\"left\"},\"paper_bgcolor\":\"white\",\"plot_bgcolor\":\"#E5ECF6\",\"polar\":{\"bgcolor\":\"#E5ECF6\",\"angularaxis\":{\"gridcolor\":\"white\",\"linecolor\":\"white\",\"ticks\":\"\"},\"radialaxis\":{\"gridcolor\":\"white\",\"linecolor\":\"white\",\"ticks\":\"\"}},\"ternary\":{\"bgcolor\":\"#E5ECF6\",\"aaxis\":{\"gridcolor\":\"white\",\"linecolor\":\"white\",\"ticks\":\"\"},\"baxis\":{\"gridcolor\":\"white\",\"linecolor\":\"white\",\"ticks\":\"\"},\"caxis\":{\"gridcolor\":\"white\",\"linecolor\":\"white\",\"ticks\":\"\"}},\"coloraxis\":{\"colorbar\":{\"outlinewidth\":0,\"ticks\":\"\"}},\"colorscale\":{\"sequential\":[[0.0,\"#0d0887\"],[0.1111111111111111,\"#46039f\"],[0.2222222222222222,\"#7201a8\"],[0.3333333333333333,\"#9c179e\"],[0.4444444444444444,\"#bd3786\"],[0.5555555555555556,\"#d8576b\"],[0.6666666666666666,\"#ed7953\"],[0.7777777777777778,\"#fb9f3a\"],[0.8888888888888888,\"#fdca26\"],[1.0,\"#f0f921\"]],\"sequentialminus\":[[0.0,\"#0d0887\"],[0.1111111111111111,\"#46039f\"],[0.2222222222222222,\"#7201a8\"],[0.3333333333333333,\"#9c179e\"],[0.4444444444444444,\"#bd3786\"],[0.5555555555555556,\"#d8576b\"],[0.6666666666666666,\"#ed7953\"],[0.7777777777777778,\"#fb9f3a\"],[0.8888888888888888,\"#fdca26\"],[1.0,\"#f0f921\"]],\"diverging\":[[0,\"#8e0152\"],[0.1,\"#c51b7d\"],[0.2,\"#de77ae\"],[0.3,\"#f1b6da\"],[0.4,\"#fde0ef\"],[0.5,\"#f7f7f7\"],[0.6,\"#e6f5d0\"],[0.7,\"#b8e186\"],[0.8,\"#7fbc41\"],[0.9,\"#4d9221\"],[1,\"#276419\"]]},\"xaxis\":{\"gridcolor\":\"white\",\"linecolor\":\"white\",\"ticks\":\"\",\"title\":{\"standoff\":15},\"zerolinecolor\":\"white\",\"automargin\":true,\"zerolinewidth\":2},\"yaxis\":{\"gridcolor\":\"white\",\"linecolor\":\"white\",\"ticks\":\"\",\"title\":{\"standoff\":15},\"zerolinecolor\":\"white\",\"automargin\":true,\"zerolinewidth\":2},\"scene\":{\"xaxis\":{\"backgroundcolor\":\"#E5ECF6\",\"gridcolor\":\"white\",\"linecolor\":\"white\",\"showbackground\":true,\"ticks\":\"\",\"zerolinecolor\":\"white\",\"gridwidth\":2},\"yaxis\":{\"backgroundcolor\":\"#E5ECF6\",\"gridcolor\":\"white\",\"linecolor\":\"white\",\"showbackground\":true,\"ticks\":\"\",\"zerolinecolor\":\"white\",\"gridwidth\":2},\"zaxis\":{\"backgroundcolor\":\"#E5ECF6\",\"gridcolor\":\"white\",\"linecolor\":\"white\",\"showbackground\":true,\"ticks\":\"\",\"zerolinecolor\":\"white\",\"gridwidth\":2}},\"shapedefaults\":{\"line\":{\"color\":\"#2a3f5f\"}},\"annotationdefaults\":{\"arrowcolor\":\"#2a3f5f\",\"arrowhead\":0,\"arrowwidth\":1},\"geo\":{\"bgcolor\":\"white\",\"landcolor\":\"#E5ECF6\",\"subunitcolor\":\"white\",\"showland\":true,\"showlakes\":true,\"lakecolor\":\"white\"},\"title\":{\"x\":0.05},\"mapbox\":{\"style\":\"light\"}}},\"xaxis\":{\"anchor\":\"y\",\"domain\":[0.0,1.0],\"title\":{\"text\":\"Airport_type\"}},\"yaxis\":{\"anchor\":\"x\",\"domain\":[0.0,1.0],\"title\":{\"text\":\"value\"}},\"legend\":{\"title\":{\"text\":\"variable\"},\"tracegroupgap\":0},\"margin\":{\"t\":60},\"barmode\":\"relative\"},                        {\"responsive\": true}                    ).then(function(){\n",
       "                            \n",
       "var gd = document.getElementById('50f03971-5096-44c1-9423-d512a244148a');\n",
       "var x = new MutationObserver(function (mutations, observer) {{\n",
       "        var display = window.getComputedStyle(gd).display;\n",
       "        if (!display || display === 'none') {{\n",
       "            console.log([gd, 'removed!']);\n",
       "            Plotly.purge(gd);\n",
       "            observer.disconnect();\n",
       "        }}\n",
       "}});\n",
       "\n",
       "// Listen for the removal of the full notebook cells\n",
       "var notebookContainer = gd.closest('#notebook-container');\n",
       "if (notebookContainer) {{\n",
       "    x.observe(notebookContainer, {childList: true});\n",
       "}}\n",
       "\n",
       "// Listen for the clearing of the current output cell\n",
       "var outputEl = gd.closest('.output');\n",
       "if (outputEl) {{\n",
       "    x.observe(outputEl, {childList: true});\n",
       "}}\n",
       "\n",
       "                        })                };                });            </script>        </div>"
      ]
     },
     "metadata": {},
     "output_type": "display_data"
    }
   ],
   "source": [
    "from plotly.express import bar\n",
    "bar(data_frame=df.groupby(by='Airport_type').size().to_frame().rename(columns={0: 'count'}).sort_values(ascending=False, by='count'))"
   ]
  },
  {
   "cell_type": "code",
   "execution_count": 36,
   "id": "47458b15",
   "metadata": {
    "execution": {
     "iopub.execute_input": "2023-10-07T13:02:48.115511Z",
     "iopub.status.busy": "2023-10-07T13:02:48.114636Z",
     "iopub.status.idle": "2023-10-07T13:02:48.466388Z",
     "shell.execute_reply": "2023-10-07T13:02:48.464363Z"
    },
    "papermill": {
     "duration": 0.376074,
     "end_time": "2023-10-07T13:02:48.469387",
     "exception": false,
     "start_time": "2023-10-07T13:02:48.093313",
     "status": "completed"
    },
    "tags": []
   },
   "outputs": [
    {
     "data": {
      "image/png": "[encoded data removed]",
      "text/plain": [
       "<Figure size 1000x800 with 1 Axes>"
      ]
     },
     "metadata": {},
     "output_type": "display_data"
    }
   ],
   "source": [
    "plt.figure(figsize=(10,8))\n",
    "sns.countplot(x='Airport_type',data=df[categorical_features],hue='Scheduled_service',palette='gist_ncar',saturation=0.5)\n",
    "plt.show()"
   ]
  },
  {
   "cell_type": "markdown",
   "id": "f57ed96d",
   "metadata": {
    "papermill": {
     "duration": 0.02094,
     "end_time": "2023-10-07T13:02:48.512734",
     "exception": false,
     "start_time": "2023-10-07T13:02:48.491794",
     "status": "completed"
    },
    "tags": []
   },
   "source": [
    "# Feature Enginnering"
   ]
  },
  {
   "cell_type": "code",
   "execution_count": 37,
   "id": "75ff02fe",
   "metadata": {
    "execution": {
     "iopub.execute_input": "2023-10-07T13:02:48.556903Z",
     "iopub.status.busy": "2023-10-07T13:02:48.556470Z",
     "iopub.status.idle": "2023-10-07T13:02:48.562355Z",
     "shell.execute_reply": "2023-10-07T13:02:48.561314Z"
    },
    "papermill": {
     "duration": 0.030952,
     "end_time": "2023-10-07T13:02:48.564410",
     "exception": false,
     "start_time": "2023-10-07T13:02:48.533458",
     "status": "completed"
    },
    "tags": []
   },
   "outputs": [],
   "source": [
    "def impute_nan(df,variable,mean):\n",
    "    df[variable+\"_mean\"]= df[variable].fillna(mean)"
   ]
  },
  {
   "cell_type": "code",
   "execution_count": 38,
   "id": "c1edf95a",
   "metadata": {
    "execution": {
     "iopub.execute_input": "2023-10-07T13:02:48.607373Z",
     "iopub.status.busy": "2023-10-07T13:02:48.606963Z",
     "iopub.status.idle": "2023-10-07T13:02:48.615348Z",
     "shell.execute_reply": "2023-10-07T13:02:48.614204Z"
    },
    "papermill": {
     "duration": 0.033477,
     "end_time": "2023-10-07T13:02:48.617879",
     "exception": false,
     "start_time": "2023-10-07T13:02:48.584402",
     "status": "completed"
    },
    "tags": []
   },
   "outputs": [
    {
     "data": {
      "text/plain": [
       "1306.1550437945368"
      ]
     },
     "execution_count": 38,
     "metadata": {},
     "output_type": "execute_result"
    }
   ],
   "source": [
    "mean = df.Elevation.mean()\n",
    "mean"
   ]
  },
  {
   "cell_type": "code",
   "execution_count": 39,
   "id": "66ffbbab",
   "metadata": {
    "execution": {
     "iopub.execute_input": "2023-10-07T13:02:48.661399Z",
     "iopub.status.busy": "2023-10-07T13:02:48.661030Z",
     "iopub.status.idle": "2023-10-07T13:02:48.680230Z",
     "shell.execute_reply": "2023-10-07T13:02:48.678820Z"
    },
    "papermill": {
     "duration": 0.043789,
     "end_time": "2023-10-07T13:02:48.682592",
     "exception": false,
     "start_time": "2023-10-07T13:02:48.638803",
     "status": "completed"
    },
    "tags": []
   },
   "outputs": [
    {
     "data": {
      "text/html": [
       "<div>\n",
       "<style scoped>\n",
       "    .dataframe tbody tr th:only-of-type {\n",
       "        vertical-align: middle;\n",
       "    }\n",
       "\n",
       "    .dataframe tbody tr th {\n",
       "        vertical-align: top;\n",
       "    }\n",
       "\n",
       "    .dataframe thead th {\n",
       "        text-align: right;\n",
       "    }\n",
       "</style>\n",
       "<table border=\"1\" class=\"dataframe\">\n",
       "  <thead>\n",
       "    <tr style=\"text-align: right;\">\n",
       "      <th></th>\n",
       "      <th>id</th>\n",
       "      <th>Airport_type</th>\n",
       "      <th>Name</th>\n",
       "      <th>Latitude</th>\n",
       "      <th>Longitude</th>\n",
       "      <th>Elevation</th>\n",
       "      <th>Continent</th>\n",
       "      <th>Country</th>\n",
       "      <th>Region</th>\n",
       "      <th>Municipality</th>\n",
       "      <th>Scheduled_service</th>\n",
       "      <th>Gps_code</th>\n",
       "      <th>Elevation_mean</th>\n",
       "    </tr>\n",
       "  </thead>\n",
       "  <tbody>\n",
       "    <tr>\n",
       "      <th>0</th>\n",
       "      <td>6523</td>\n",
       "      <td>heliport</td>\n",
       "      <td>Total RF Heliport</td>\n",
       "      <td>40.070985</td>\n",
       "      <td>-74.933689</td>\n",
       "      <td>11.0</td>\n",
       "      <td>NaN</td>\n",
       "      <td>US</td>\n",
       "      <td>US-PA</td>\n",
       "      <td>Bensalem</td>\n",
       "      <td>no</td>\n",
       "      <td>K00A</td>\n",
       "      <td>11.0</td>\n",
       "    </tr>\n",
       "    <tr>\n",
       "      <th>1</th>\n",
       "      <td>323361</td>\n",
       "      <td>small_airport</td>\n",
       "      <td>Aero B Ranch Airport</td>\n",
       "      <td>38.704022</td>\n",
       "      <td>-101.473911</td>\n",
       "      <td>3435.0</td>\n",
       "      <td>NaN</td>\n",
       "      <td>US</td>\n",
       "      <td>US-KS</td>\n",
       "      <td>Leoti</td>\n",
       "      <td>no</td>\n",
       "      <td>00AA</td>\n",
       "      <td>3435.0</td>\n",
       "    </tr>\n",
       "    <tr>\n",
       "      <th>2</th>\n",
       "      <td>6524</td>\n",
       "      <td>small_airport</td>\n",
       "      <td>Lowell Field</td>\n",
       "      <td>59.947733</td>\n",
       "      <td>-151.692524</td>\n",
       "      <td>450.0</td>\n",
       "      <td>NaN</td>\n",
       "      <td>US</td>\n",
       "      <td>US-AK</td>\n",
       "      <td>Anchor Point</td>\n",
       "      <td>no</td>\n",
       "      <td>00AK</td>\n",
       "      <td>450.0</td>\n",
       "    </tr>\n",
       "    <tr>\n",
       "      <th>3</th>\n",
       "      <td>6525</td>\n",
       "      <td>small_airport</td>\n",
       "      <td>Epps Airpark</td>\n",
       "      <td>34.864799</td>\n",
       "      <td>-86.770302</td>\n",
       "      <td>820.0</td>\n",
       "      <td>NaN</td>\n",
       "      <td>US</td>\n",
       "      <td>US-AL</td>\n",
       "      <td>Harvest</td>\n",
       "      <td>no</td>\n",
       "      <td>00AL</td>\n",
       "      <td>820.0</td>\n",
       "    </tr>\n",
       "    <tr>\n",
       "      <th>4</th>\n",
       "      <td>506791</td>\n",
       "      <td>small_airport</td>\n",
       "      <td>Katmai Lodge Airport</td>\n",
       "      <td>59.093287</td>\n",
       "      <td>-156.456699</td>\n",
       "      <td>80.0</td>\n",
       "      <td>NaN</td>\n",
       "      <td>US</td>\n",
       "      <td>US-AK</td>\n",
       "      <td>King Salmon</td>\n",
       "      <td>no</td>\n",
       "      <td>00AN</td>\n",
       "      <td>80.0</td>\n",
       "    </tr>\n",
       "  </tbody>\n",
       "</table>\n",
       "</div>"
      ],
      "text/plain": [
       "       id   Airport_type                  Name   Latitude   Longitude  \\\n",
       "0    6523       heliport     Total RF Heliport  40.070985  -74.933689   \n",
       "1  323361  small_airport  Aero B Ranch Airport  38.704022 -101.473911   \n",
       "2    6524  small_airport          Lowell Field  59.947733 -151.692524   \n",
       "3    6525  small_airport          Epps Airpark  34.864799  -86.770302   \n",
       "4  506791  small_airport  Katmai Lodge Airport  59.093287 -156.456699   \n",
       "\n",
       "   Elevation Continent Country Region  Municipality Scheduled_service  \\\n",
       "0       11.0       NaN      US  US-PA      Bensalem                no   \n",
       "1     3435.0       NaN      US  US-KS         Leoti                no   \n",
       "2      450.0       NaN      US  US-AK  Anchor Point                no   \n",
       "3      820.0       NaN      US  US-AL       Harvest                no   \n",
       "4       80.0       NaN      US  US-AK   King Salmon                no   \n",
       "\n",
       "  Gps_code  Elevation_mean  \n",
       "0     K00A            11.0  \n",
       "1     00AA          3435.0  \n",
       "2     00AK           450.0  \n",
       "3     00AL           820.0  \n",
       "4     00AN            80.0  "
      ]
     },
     "execution_count": 39,
     "metadata": {},
     "output_type": "execute_result"
    }
   ],
   "source": [
    "impute_nan(df,'Elevation',mean)\n",
    "df.head()"
   ]
  },
  {
   "cell_type": "code",
   "execution_count": 40,
   "id": "ce85a05c",
   "metadata": {
    "execution": {
     "iopub.execute_input": "2023-10-07T13:02:48.727665Z",
     "iopub.status.busy": "2023-10-07T13:02:48.727335Z",
     "iopub.status.idle": "2023-10-07T13:02:51.385917Z",
     "shell.execute_reply": "2023-10-07T13:02:51.384403Z"
    },
    "papermill": {
     "duration": 2.684185,
     "end_time": "2023-10-07T13:02:51.388197",
     "exception": false,
     "start_time": "2023-10-07T13:02:48.704012",
     "status": "completed"
    },
    "tags": []
   },
   "outputs": [
    {
     "data": {
      "text/plain": [
       "<matplotlib.legend.Legend at 0x7e65d6743c10>"
      ]
     },
     "execution_count": 40,
     "metadata": {},
     "output_type": "execute_result"
    },
    {
     "data": {
      "image/png": "[encoded data removed]",
      "text/plain": [
       "<Figure size 640x480 with 1 Axes>"
      ]
     },
     "metadata": {},
     "output_type": "display_data"
    }
   ],
   "source": [
    "fig = plt.figure()\n",
    "ax = fig.add_subplot(111)\n",
    "df['Elevation'].plot(kind='kde',ax=ax)\n",
    "df.Elevation_mean.plot(kind='kde',ax=ax,color='red')\n",
    "lines,labels = ax.get_legend_handles_labels()\n",
    "plt.legend()"
   ]
  },
  {
   "cell_type": "code",
   "execution_count": 41,
   "id": "5a49d32b",
   "metadata": {
    "execution": {
     "iopub.execute_input": "2023-10-07T13:02:51.433541Z",
     "iopub.status.busy": "2023-10-07T13:02:51.432667Z",
     "iopub.status.idle": "2023-10-07T13:02:51.440366Z",
     "shell.execute_reply": "2023-10-07T13:02:51.439276Z"
    },
    "papermill": {
     "duration": 0.032851,
     "end_time": "2023-10-07T13:02:51.442589",
     "exception": false,
     "start_time": "2023-10-07T13:02:51.409738",
     "status": "completed"
    },
    "tags": []
   },
   "outputs": [
    {
     "name": "stdout",
     "output_type": "stream",
     "text": [
      "1680.0214193639242\n",
      "1523.0384010014257\n"
     ]
    }
   ],
   "source": [
    "print(df['Elevation'].std())\n",
    "print(df['Elevation_mean'].std())"
   ]
  },
  {
   "cell_type": "code",
   "execution_count": 42,
   "id": "e1588503",
   "metadata": {
    "execution": {
     "iopub.execute_input": "2023-10-07T13:02:51.490454Z",
     "iopub.status.busy": "2023-10-07T13:02:51.490113Z",
     "iopub.status.idle": "2023-10-07T13:02:51.495111Z",
     "shell.execute_reply": "2023-10-07T13:02:51.493733Z"
    },
    "papermill": {
     "duration": 0.033067,
     "end_time": "2023-10-07T13:02:51.497303",
     "exception": false,
     "start_time": "2023-10-07T13:02:51.464236",
     "status": "completed"
    },
    "tags": []
   },
   "outputs": [],
   "source": [
    "def impute_nan(df,variable,median):\n",
    "    df[variable+\"_median\"]= df[variable].fillna(median)"
   ]
  },
  {
   "cell_type": "code",
   "execution_count": 43,
   "id": "a752901f",
   "metadata": {
    "execution": {
     "iopub.execute_input": "2023-10-07T13:02:51.541284Z",
     "iopub.status.busy": "2023-10-07T13:02:51.540918Z",
     "iopub.status.idle": "2023-10-07T13:02:51.550474Z",
     "shell.execute_reply": "2023-10-07T13:02:51.549302Z"
    },
    "papermill": {
     "duration": 0.034095,
     "end_time": "2023-10-07T13:02:51.552697",
     "exception": false,
     "start_time": "2023-10-07T13:02:51.518602",
     "status": "completed"
    },
    "tags": []
   },
   "outputs": [
    {
     "data": {
      "text/plain": [
       "735.0"
      ]
     },
     "execution_count": 43,
     "metadata": {},
     "output_type": "execute_result"
    }
   ],
   "source": [
    "median = df.Elevation.median()\n",
    "median"
   ]
  },
  {
   "cell_type": "code",
   "execution_count": 44,
   "id": "f2bce3ee",
   "metadata": {
    "execution": {
     "iopub.execute_input": "2023-10-07T13:02:51.597247Z",
     "iopub.status.busy": "2023-10-07T13:02:51.596798Z",
     "iopub.status.idle": "2023-10-07T13:02:51.615754Z",
     "shell.execute_reply": "2023-10-07T13:02:51.614729Z"
    },
    "papermill": {
     "duration": 0.044019,
     "end_time": "2023-10-07T13:02:51.618084",
     "exception": false,
     "start_time": "2023-10-07T13:02:51.574065",
     "status": "completed"
    },
    "tags": []
   },
   "outputs": [
    {
     "data": {
      "text/html": [
       "<div>\n",
       "<style scoped>\n",
       "    .dataframe tbody tr th:only-of-type {\n",
       "        vertical-align: middle;\n",
       "    }\n",
       "\n",
       "    .dataframe tbody tr th {\n",
       "        vertical-align: top;\n",
       "    }\n",
       "\n",
       "    .dataframe thead th {\n",
       "        text-align: right;\n",
       "    }\n",
       "</style>\n",
       "<table border=\"1\" class=\"dataframe\">\n",
       "  <thead>\n",
       "    <tr style=\"text-align: right;\">\n",
       "      <th></th>\n",
       "      <th>id</th>\n",
       "      <th>Airport_type</th>\n",
       "      <th>Name</th>\n",
       "      <th>Latitude</th>\n",
       "      <th>Longitude</th>\n",
       "      <th>Elevation</th>\n",
       "      <th>Continent</th>\n",
       "      <th>Country</th>\n",
       "      <th>Region</th>\n",
       "      <th>Municipality</th>\n",
       "      <th>Scheduled_service</th>\n",
       "      <th>Gps_code</th>\n",
       "      <th>Elevation_mean</th>\n",
       "      <th>Elevation_median</th>\n",
       "    </tr>\n",
       "  </thead>\n",
       "  <tbody>\n",
       "    <tr>\n",
       "      <th>0</th>\n",
       "      <td>6523</td>\n",
       "      <td>heliport</td>\n",
       "      <td>Total RF Heliport</td>\n",
       "      <td>40.070985</td>\n",
       "      <td>-74.933689</td>\n",
       "      <td>11.0</td>\n",
       "      <td>NaN</td>\n",
       "      <td>US</td>\n",
       "      <td>US-PA</td>\n",
       "      <td>Bensalem</td>\n",
       "      <td>no</td>\n",
       "      <td>K00A</td>\n",
       "      <td>11.0</td>\n",
       "      <td>11.0</td>\n",
       "    </tr>\n",
       "    <tr>\n",
       "      <th>1</th>\n",
       "      <td>323361</td>\n",
       "      <td>small_airport</td>\n",
       "      <td>Aero B Ranch Airport</td>\n",
       "      <td>38.704022</td>\n",
       "      <td>-101.473911</td>\n",
       "      <td>3435.0</td>\n",
       "      <td>NaN</td>\n",
       "      <td>US</td>\n",
       "      <td>US-KS</td>\n",
       "      <td>Leoti</td>\n",
       "      <td>no</td>\n",
       "      <td>00AA</td>\n",
       "      <td>3435.0</td>\n",
       "      <td>3435.0</td>\n",
       "    </tr>\n",
       "    <tr>\n",
       "      <th>2</th>\n",
       "      <td>6524</td>\n",
       "      <td>small_airport</td>\n",
       "      <td>Lowell Field</td>\n",
       "      <td>59.947733</td>\n",
       "      <td>-151.692524</td>\n",
       "      <td>450.0</td>\n",
       "      <td>NaN</td>\n",
       "      <td>US</td>\n",
       "      <td>US-AK</td>\n",
       "      <td>Anchor Point</td>\n",
       "      <td>no</td>\n",
       "      <td>00AK</td>\n",
       "      <td>450.0</td>\n",
       "      <td>450.0</td>\n",
       "    </tr>\n",
       "    <tr>\n",
       "      <th>3</th>\n",
       "      <td>6525</td>\n",
       "      <td>small_airport</td>\n",
       "      <td>Epps Airpark</td>\n",
       "      <td>34.864799</td>\n",
       "      <td>-86.770302</td>\n",
       "      <td>820.0</td>\n",
       "      <td>NaN</td>\n",
       "      <td>US</td>\n",
       "      <td>US-AL</td>\n",
       "      <td>Harvest</td>\n",
       "      <td>no</td>\n",
       "      <td>00AL</td>\n",
       "      <td>820.0</td>\n",
       "      <td>820.0</td>\n",
       "    </tr>\n",
       "    <tr>\n",
       "      <th>4</th>\n",
       "      <td>506791</td>\n",
       "      <td>small_airport</td>\n",
       "      <td>Katmai Lodge Airport</td>\n",
       "      <td>59.093287</td>\n",
       "      <td>-156.456699</td>\n",
       "      <td>80.0</td>\n",
       "      <td>NaN</td>\n",
       "      <td>US</td>\n",
       "      <td>US-AK</td>\n",
       "      <td>King Salmon</td>\n",
       "      <td>no</td>\n",
       "      <td>00AN</td>\n",
       "      <td>80.0</td>\n",
       "      <td>80.0</td>\n",
       "    </tr>\n",
       "  </tbody>\n",
       "</table>\n",
       "</div>"
      ],
      "text/plain": [
       "       id   Airport_type                  Name   Latitude   Longitude  \\\n",
       "0    6523       heliport     Total RF Heliport  40.070985  -74.933689   \n",
       "1  323361  small_airport  Aero B Ranch Airport  38.704022 -101.473911   \n",
       "2    6524  small_airport          Lowell Field  59.947733 -151.692524   \n",
       "3    6525  small_airport          Epps Airpark  34.864799  -86.770302   \n",
       "4  506791  small_airport  Katmai Lodge Airport  59.093287 -156.456699   \n",
       "\n",
       "   Elevation Continent Country Region  Municipality Scheduled_service  \\\n",
       "0       11.0       NaN      US  US-PA      Bensalem                no   \n",
       "1     3435.0       NaN      US  US-KS         Leoti                no   \n",
       "2      450.0       NaN      US  US-AK  Anchor Point                no   \n",
       "3      820.0       NaN      US  US-AL       Harvest                no   \n",
       "4       80.0       NaN      US  US-AK   King Salmon                no   \n",
       "\n",
       "  Gps_code  Elevation_mean  Elevation_median  \n",
       "0     K00A            11.0              11.0  \n",
       "1     00AA          3435.0            3435.0  \n",
       "2     00AK           450.0             450.0  \n",
       "3     00AL           820.0             820.0  \n",
       "4     00AN            80.0              80.0  "
      ]
     },
     "execution_count": 44,
     "metadata": {},
     "output_type": "execute_result"
    }
   ],
   "source": [
    "impute_nan(df,'Elevation',median)\n",
    "df.head()"
   ]
  },
  {
   "cell_type": "code",
   "execution_count": 45,
   "id": "55c4c4cc",
   "metadata": {
    "execution": {
     "iopub.execute_input": "2023-10-07T13:02:51.665374Z",
     "iopub.status.busy": "2023-10-07T13:02:51.664011Z",
     "iopub.status.idle": "2023-10-07T13:02:54.211778Z",
     "shell.execute_reply": "2023-10-07T13:02:54.210581Z"
    },
    "papermill": {
     "duration": 2.574415,
     "end_time": "2023-10-07T13:02:54.214486",
     "exception": false,
     "start_time": "2023-10-07T13:02:51.640071",
     "status": "completed"
    },
    "tags": []
   },
   "outputs": [
    {
     "data": {
      "image/png": "[encoded data removed]",
      "text/plain": [
       "<Figure size 640x480 with 1 Axes>"
      ]
     },
     "metadata": {},
     "output_type": "display_data"
    }
   ],
   "source": [
    "fig = plt.figure()\n",
    "ax = fig.add_subplot(111)\n",
    "df['Elevation'].plot(kind='kde',ax=ax)\n",
    "df.Elevation_median.plot(kind='kde',ax=ax,color='red')\n",
    "lines,labels = ax.get_legend_handles_labels()\n",
    "plt.legend()\n",
    "plt.show()"
   ]
  },
  {
   "cell_type": "code",
   "execution_count": 46,
   "id": "869792a7",
   "metadata": {
    "execution": {
     "iopub.execute_input": "2023-10-07T13:02:54.263225Z",
     "iopub.status.busy": "2023-10-07T13:02:54.261980Z",
     "iopub.status.idle": "2023-10-07T13:02:54.272135Z",
     "shell.execute_reply": "2023-10-07T13:02:54.270633Z"
    },
    "papermill": {
     "duration": 0.036547,
     "end_time": "2023-10-07T13:02:54.274372",
     "exception": false,
     "start_time": "2023-10-07T13:02:54.237825",
     "status": "completed"
    },
    "tags": []
   },
   "outputs": [
    {
     "name": "stdout",
     "output_type": "stream",
     "text": [
      "1680.0214193639242\n",
      "1538.638604109434\n"
     ]
    }
   ],
   "source": [
    "print(df['Elevation'].std())\n",
    "print(df['Elevation_median'].std())"
   ]
  },
  {
   "cell_type": "code",
   "execution_count": 47,
   "id": "3475c088",
   "metadata": {
    "execution": {
     "iopub.execute_input": "2023-10-07T13:02:54.322370Z",
     "iopub.status.busy": "2023-10-07T13:02:54.320987Z",
     "iopub.status.idle": "2023-10-07T13:02:54.332619Z",
     "shell.execute_reply": "2023-10-07T13:02:54.331416Z"
    },
    "papermill": {
     "duration": 0.037331,
     "end_time": "2023-10-07T13:02:54.334623",
     "exception": false,
     "start_time": "2023-10-07T13:02:54.297292",
     "status": "completed"
    },
    "tags": []
   },
   "outputs": [
    {
     "data": {
      "text/plain": [
       "70939    10.0\n",
       "Name: Elevation, dtype: float64"
      ]
     },
     "execution_count": 47,
     "metadata": {},
     "output_type": "execute_result"
    }
   ],
   "source": [
    "df['Elevation'].dropna().sample()\n"
   ]
  },
  {
   "cell_type": "code",
   "execution_count": 48,
   "id": "c3da26cd",
   "metadata": {
    "execution": {
     "iopub.execute_input": "2023-10-07T13:02:54.382268Z",
     "iopub.status.busy": "2023-10-07T13:02:54.380933Z",
     "iopub.status.idle": "2023-10-07T13:02:54.389658Z",
     "shell.execute_reply": "2023-10-07T13:02:54.388428Z"
    },
    "papermill": {
     "duration": 0.034639,
     "end_time": "2023-10-07T13:02:54.391668",
     "exception": false,
     "start_time": "2023-10-07T13:02:54.357029",
     "status": "completed"
    },
    "tags": []
   },
   "outputs": [
    {
     "data": {
      "text/plain": [
       "11681"
      ]
     },
     "execution_count": 48,
     "metadata": {},
     "output_type": "execute_result"
    }
   ],
   "source": [
    "df['Elevation'].isnull().sum()"
   ]
  },
  {
   "cell_type": "code",
   "execution_count": 49,
   "id": "2feeffd1",
   "metadata": {
    "execution": {
     "iopub.execute_input": "2023-10-07T13:02:54.441815Z",
     "iopub.status.busy": "2023-10-07T13:02:54.441190Z",
     "iopub.status.idle": "2023-10-07T13:02:54.453116Z",
     "shell.execute_reply": "2023-10-07T13:02:54.452116Z"
    },
    "papermill": {
     "duration": 0.039651,
     "end_time": "2023-10-07T13:02:54.455444",
     "exception": false,
     "start_time": "2023-10-07T13:02:54.415793",
     "status": "completed"
    },
    "tags": []
   },
   "outputs": [
    {
     "data": {
      "text/plain": [
       "2502      651.0\n",
       "39273     771.0\n",
       "63676     115.0\n",
       "37251     881.0\n",
       "14953     292.0\n",
       "          ...  \n",
       "25421      30.0\n",
       "18348     223.0\n",
       "75725    1500.0\n",
       "60319    2050.0\n",
       "64269    1912.0\n",
       "Name: Elevation, Length: 11681, dtype: float64"
      ]
     },
     "execution_count": 49,
     "metadata": {},
     "output_type": "execute_result"
    }
   ],
   "source": [
    "df['Elevation'].dropna().sample(df['Elevation'].isnull().sum(),random_state=0) # replacing NAN values with random numbers"
   ]
  },
  {
   "cell_type": "code",
   "execution_count": 50,
   "id": "5d7ac706",
   "metadata": {
    "execution": {
     "iopub.execute_input": "2023-10-07T13:02:54.504848Z",
     "iopub.status.busy": "2023-10-07T13:02:54.503809Z",
     "iopub.status.idle": "2023-10-07T13:02:54.509655Z",
     "shell.execute_reply": "2023-10-07T13:02:54.508861Z"
    },
    "papermill": {
     "duration": 0.033548,
     "end_time": "2023-10-07T13:02:54.511688",
     "exception": false,
     "start_time": "2023-10-07T13:02:54.478140",
     "status": "completed"
    },
    "tags": []
   },
   "outputs": [],
   "source": [
    "def impute_nan(df,variable,median):\n",
    "    df[variable+\"_median\"] = df[variable].fillna(median)\n",
    "    df[variable+\"_random\"] = df[variable]\n",
    "    ## it will have the random sample to fill the na\n",
    "    random_sample = df[variable].dropna().sample(df['Elevation'].isnull().sum(),random_state=0)\n",
    "    ##pandas need to have same index in order to merge the dataset\n",
    "    random_sample.index = df[df[variable].isnull()].index\n",
    "    df.loc[df[variable].isnull(),variable+'_random'] = random_sample"
   ]
  },
  {
   "cell_type": "code",
   "execution_count": 51,
   "id": "c273f967",
   "metadata": {
    "execution": {
     "iopub.execute_input": "2023-10-07T13:02:54.565507Z",
     "iopub.status.busy": "2023-10-07T13:02:54.564699Z",
     "iopub.status.idle": "2023-10-07T13:02:54.572548Z",
     "shell.execute_reply": "2023-10-07T13:02:54.571484Z"
    },
    "papermill": {
     "duration": 0.037496,
     "end_time": "2023-10-07T13:02:54.575457",
     "exception": false,
     "start_time": "2023-10-07T13:02:54.537961",
     "status": "completed"
    },
    "tags": []
   },
   "outputs": [
    {
     "data": {
      "text/plain": [
       "735.0"
      ]
     },
     "execution_count": 51,
     "metadata": {},
     "output_type": "execute_result"
    }
   ],
   "source": [
    "median = df.Elevation.median()\n",
    "median"
   ]
  },
  {
   "cell_type": "code",
   "execution_count": 52,
   "id": "d34c538c",
   "metadata": {
    "execution": {
     "iopub.execute_input": "2023-10-07T13:02:54.641964Z",
     "iopub.status.busy": "2023-10-07T13:02:54.641285Z",
     "iopub.status.idle": "2023-10-07T13:02:54.659524Z",
     "shell.execute_reply": "2023-10-07T13:02:54.658435Z"
    },
    "papermill": {
     "duration": 0.048697,
     "end_time": "2023-10-07T13:02:54.662208",
     "exception": false,
     "start_time": "2023-10-07T13:02:54.613511",
     "status": "completed"
    },
    "tags": []
   },
   "outputs": [],
   "source": [
    "impute_nan(df,'Elevation',median)"
   ]
  },
  {
   "cell_type": "code",
   "execution_count": 53,
   "id": "841f7d62",
   "metadata": {
    "execution": {
     "iopub.execute_input": "2023-10-07T13:02:54.709545Z",
     "iopub.status.busy": "2023-10-07T13:02:54.709180Z",
     "iopub.status.idle": "2023-10-07T13:02:57.361223Z",
     "shell.execute_reply": "2023-10-07T13:02:57.360133Z"
    },
    "papermill": {
     "duration": 2.678505,
     "end_time": "2023-10-07T13:02:57.363984",
     "exception": false,
     "start_time": "2023-10-07T13:02:54.685479",
     "status": "completed"
    },
    "tags": []
   },
   "outputs": [
    {
     "data": {
      "text/plain": [
       "<matplotlib.legend.Legend at 0x7e65db0fc760>"
      ]
     },
     "execution_count": 53,
     "metadata": {},
     "output_type": "execute_result"
    },
    {
     "data": {
      "image/png": "[encoded data removed]",
      "text/plain": [
       "<Figure size 640x480 with 1 Axes>"
      ]
     },
     "metadata": {},
     "output_type": "display_data"
    }
   ],
   "source": [
    "fig = plt.figure()\n",
    "ax = fig.add_subplot(111)\n",
    "df['Elevation'].plot(kind='kde',ax=ax,color='b',linewidth=4,linestyle=':')\n",
    "#df.elevation_ft_median.plot(kind='kde',ax=ax,color='red')\n",
    "df.Elevation_random.plot(kind='kde',ax=ax,color='red')\n",
    "lines,labels = ax.get_legend_handles_labels()\n",
    "plt.legend()"
   ]
  },
  {
   "cell_type": "code",
   "execution_count": 54,
   "id": "6c7f031e",
   "metadata": {
    "execution": {
     "iopub.execute_input": "2023-10-07T13:02:57.415357Z",
     "iopub.status.busy": "2023-10-07T13:02:57.414743Z",
     "iopub.status.idle": "2023-10-07T13:02:57.448373Z",
     "shell.execute_reply": "2023-10-07T13:02:57.447125Z"
    },
    "papermill": {
     "duration": 0.061761,
     "end_time": "2023-10-07T13:02:57.450649",
     "exception": false,
     "start_time": "2023-10-07T13:02:57.388888",
     "status": "completed"
    },
    "tags": []
   },
   "outputs": [
    {
     "data": {
      "text/plain": [
       "id                       0\n",
       "Airport_type             0\n",
       "Name                     0\n",
       "Latitude                 0\n",
       "Longitude                0\n",
       "Elevation            11681\n",
       "Continent            29444\n",
       "Country                  0\n",
       "Region                   0\n",
       "Municipality          4455\n",
       "Scheduled_service        0\n",
       "Gps_code             24224\n",
       "Elevation_mean           0\n",
       "Elevation_median         0\n",
       "Elevation_random         0\n",
       "dtype: int64"
      ]
     },
     "execution_count": 54,
     "metadata": {},
     "output_type": "execute_result"
    }
   ],
   "source": [
    "df.isna().sum()"
   ]
  },
  {
   "cell_type": "code",
   "execution_count": 55,
   "id": "59cc2acc",
   "metadata": {
    "execution": {
     "iopub.execute_input": "2023-10-07T13:02:57.502472Z",
     "iopub.status.busy": "2023-10-07T13:02:57.501992Z",
     "iopub.status.idle": "2023-10-07T13:02:57.944663Z",
     "shell.execute_reply": "2023-10-07T13:02:57.943460Z"
    },
    "papermill": {
     "duration": 0.472587,
     "end_time": "2023-10-07T13:02:57.947028",
     "exception": false,
     "start_time": "2023-10-07T13:02:57.474441",
     "status": "completed"
    },
    "tags": []
   },
   "outputs": [
    {
     "data": {
      "text/plain": [
       "<Axes: >"
      ]
     },
     "execution_count": 55,
     "metadata": {},
     "output_type": "execute_result"
    },
    {
     "data": {
      "image/png": "[encoded data removed]",
      "text/plain": [
       "<Figure size 640x480 with 1 Axes>"
      ]
     },
     "metadata": {},
     "output_type": "display_data"
    }
   ],
   "source": [
    "df.boxplot(column='Elevation_random')"
   ]
  },
  {
   "cell_type": "code",
   "execution_count": 56,
   "id": "98187c21",
   "metadata": {
    "execution": {
     "iopub.execute_input": "2023-10-07T13:02:57.997970Z",
     "iopub.status.busy": "2023-10-07T13:02:57.997597Z",
     "iopub.status.idle": "2023-10-07T13:02:58.679456Z",
     "shell.execute_reply": "2023-10-07T13:02:58.677882Z"
    },
    "papermill": {
     "duration": 0.711242,
     "end_time": "2023-10-07T13:02:58.681954",
     "exception": false,
     "start_time": "2023-10-07T13:02:57.970712",
     "status": "completed"
    },
    "tags": []
   },
   "outputs": [
    {
     "name": "stderr",
     "output_type": "stream",
     "text": [
      "/tmp/ipykernel_20/1646862293.py:1: UserWarning:\n",
      "\n",
      "\n",
      "\n",
      "`distplot` is a deprecated function and will be removed in seaborn v0.14.0.\n",
      "\n",
      "Please adapt your code to use either `displot` (a figure-level function with\n",
      "similar flexibility) or `histplot` (an axes-level function for histograms).\n",
      "\n",
      "For a guide to updating your code to use the new functions, please see\n",
      "https://gist.github.com/mwaskom/de44147ed2974457ad6372750bbe5751\n",
      "\n",
      "\n"
     ]
    },
    {
     "data": {
      "image/png": "[encoded data removed]",
      "text/plain": [
       "<Figure size 640x480 with 1 Axes>"
      ]
     },
     "metadata": {},
     "output_type": "display_data"
    }
   ],
   "source": [
    "sns.distplot(df['Elevation_random'].dropna())\n",
    "plt.show()"
   ]
  },
  {
   "cell_type": "code",
   "execution_count": 57,
   "id": "627444e7",
   "metadata": {
    "execution": {
     "iopub.execute_input": "2023-10-07T13:02:58.732803Z",
     "iopub.status.busy": "2023-10-07T13:02:58.732445Z",
     "iopub.status.idle": "2023-10-07T13:02:58.746967Z",
     "shell.execute_reply": "2023-10-07T13:02:58.745907Z"
    },
    "papermill": {
     "duration": 0.042659,
     "end_time": "2023-10-07T13:02:58.749288",
     "exception": false,
     "start_time": "2023-10-07T13:02:58.706629",
     "status": "completed"
    },
    "tags": []
   },
   "outputs": [
    {
     "data": {
      "text/plain": [
       "count    65569.000000\n",
       "mean      1304.661791\n",
       "std       1677.874299\n",
       "min      -1266.000000\n",
       "25%        210.000000\n",
       "50%        735.000000\n",
       "75%       1620.000000\n",
       "max      17372.000000\n",
       "Name: Elevation_random, dtype: float64"
      ]
     },
     "execution_count": 57,
     "metadata": {},
     "output_type": "execute_result"
    }
   ],
   "source": [
    "df['Elevation_random'].describe()"
   ]
  },
  {
   "cell_type": "code",
   "execution_count": 58,
   "id": "a4a3eeb2",
   "metadata": {
    "execution": {
     "iopub.execute_input": "2023-10-07T13:02:58.801972Z",
     "iopub.status.busy": "2023-10-07T13:02:58.800809Z",
     "iopub.status.idle": "2023-10-07T13:02:58.813794Z",
     "shell.execute_reply": "2023-10-07T13:02:58.812307Z"
    },
    "papermill": {
     "duration": 0.0415,
     "end_time": "2023-10-07T13:02:58.815987",
     "exception": false,
     "start_time": "2023-10-07T13:02:58.774487",
     "status": "completed"
    },
    "tags": []
   },
   "outputs": [
    {
     "data": {
      "text/plain": [
       "1410.0"
      ]
     },
     "execution_count": 58,
     "metadata": {},
     "output_type": "execute_result"
    }
   ],
   "source": [
    "### Lets compute the Interquantile range to calculate the boundries\n",
    "IQR = df.Elevation_random.quantile(0.75)-df.Elevation_random.quantile(0.25) \n",
    "IQR"
   ]
  },
  {
   "cell_type": "code",
   "execution_count": 59,
   "id": "d4f65559",
   "metadata": {
    "execution": {
     "iopub.execute_input": "2023-10-07T13:02:58.869848Z",
     "iopub.status.busy": "2023-10-07T13:02:58.869179Z",
     "iopub.status.idle": "2023-10-07T13:02:58.881616Z",
     "shell.execute_reply": "2023-10-07T13:02:58.880526Z"
    },
    "papermill": {
     "duration": 0.042425,
     "end_time": "2023-10-07T13:02:58.884214",
     "exception": false,
     "start_time": "2023-10-07T13:02:58.841789",
     "status": "completed"
    },
    "tags": []
   },
   "outputs": [
    {
     "name": "stdout",
     "output_type": "stream",
     "text": [
      "Lower Boundary :  -3728.9611062898757\n",
      "Upper Boundary :  6338.284689080524\n",
      "Mean : 1306.1550437945368\n"
     ]
    },
    {
     "data": {
      "text/plain": [
       "(None, None, None)"
      ]
     },
     "execution_count": 59,
     "metadata": {},
     "output_type": "execute_result"
    }
   ],
   "source": [
    "upper_boundary = df['Elevation_random'].mean() + 3* df['Elevation_random'].std()\n",
    "lower_boundary = df['Elevation_random'].mean() - 3* df['Elevation_random'].std()\n",
    "print('Lower Boundary : ',lower_boundary),print('Upper Boundary : ',upper_boundary),print('Mean :',df['Elevation'].mean())"
   ]
  },
  {
   "cell_type": "code",
   "execution_count": 60,
   "id": "aeae50c1",
   "metadata": {
    "execution": {
     "iopub.execute_input": "2023-10-07T13:02:58.936299Z",
     "iopub.status.busy": "2023-10-07T13:02:58.935645Z",
     "iopub.status.idle": "2023-10-07T13:02:58.947640Z",
     "shell.execute_reply": "2023-10-07T13:02:58.946218Z"
    },
    "papermill": {
     "duration": 0.040801,
     "end_time": "2023-10-07T13:02:58.950173",
     "exception": false,
     "start_time": "2023-10-07T13:02:58.909372",
     "status": "completed"
    },
    "tags": []
   },
   "outputs": [
    {
     "name": "stdout",
     "output_type": "stream",
     "text": [
      "Lower Bridge :  -1905.0\n",
      "Upper Bridge :  3735.0\n"
     ]
    },
    {
     "data": {
      "text/plain": [
       "(None, None)"
      ]
     },
     "execution_count": 60,
     "metadata": {},
     "output_type": "execute_result"
    }
   ],
   "source": [
    "lower_bridge = df['Elevation_random'].quantile(0.25) - (IQR*1.5)\n",
    "upper_bridge = df['Elevation_random'].quantile(0.75) + (IQR*1.5)\n",
    "print('Lower Bridge : ',lower_bridge),print('Upper Bridge : ',upper_bridge)"
   ]
  },
  {
   "cell_type": "code",
   "execution_count": 61,
   "id": "4e73a6ee",
   "metadata": {
    "execution": {
     "iopub.execute_input": "2023-10-07T13:02:59.004820Z",
     "iopub.status.busy": "2023-10-07T13:02:59.004373Z",
     "iopub.status.idle": "2023-10-07T13:02:59.018387Z",
     "shell.execute_reply": "2023-10-07T13:02:59.016794Z"
    },
    "papermill": {
     "duration": 0.043986,
     "end_time": "2023-10-07T13:02:59.020868",
     "exception": false,
     "start_time": "2023-10-07T13:02:58.976882",
     "status": "completed"
    },
    "tags": []
   },
   "outputs": [
    {
     "name": "stdout",
     "output_type": "stream",
     "text": [
      "-4020.0\n",
      "5850.0\n"
     ]
    },
    {
     "data": {
      "text/plain": [
       "(None, None)"
      ]
     },
     "execution_count": 61,
     "metadata": {},
     "output_type": "execute_result"
    }
   ],
   "source": [
    "# Extreme outliers\n",
    "\n",
    "lower_bridge = df['Elevation_random'].quantile(0.25) - (IQR*3)\n",
    "upper_bridge = df['Elevation_random'].quantile(0.75) + (IQR*3)\n",
    "print(lower_bridge),print(upper_bridge)"
   ]
  },
  {
   "cell_type": "code",
   "execution_count": 62,
   "id": "76db4ed4",
   "metadata": {
    "execution": {
     "iopub.execute_input": "2023-10-07T13:02:59.073857Z",
     "iopub.status.busy": "2023-10-07T13:02:59.073503Z",
     "iopub.status.idle": "2023-10-07T13:02:59.099082Z",
     "shell.execute_reply": "2023-10-07T13:02:59.097869Z"
    },
    "papermill": {
     "duration": 0.055182,
     "end_time": "2023-10-07T13:02:59.101795",
     "exception": false,
     "start_time": "2023-10-07T13:02:59.046613",
     "status": "completed"
    },
    "tags": []
   },
   "outputs": [],
   "source": [
    "data = df.copy()"
   ]
  },
  {
   "cell_type": "code",
   "execution_count": 63,
   "id": "7acdb006",
   "metadata": {
    "execution": {
     "iopub.execute_input": "2023-10-07T13:02:59.154830Z",
     "iopub.status.busy": "2023-10-07T13:02:59.154489Z",
     "iopub.status.idle": "2023-10-07T13:02:59.165260Z",
     "shell.execute_reply": "2023-10-07T13:02:59.164435Z"
    },
    "papermill": {
     "duration": 0.039451,
     "end_time": "2023-10-07T13:02:59.167260",
     "exception": false,
     "start_time": "2023-10-07T13:02:59.127809",
     "status": "completed"
    },
    "tags": []
   },
   "outputs": [
    {
     "data": {
      "text/plain": [
       "(1950, 15)"
      ]
     },
     "execution_count": 63,
     "metadata": {},
     "output_type": "execute_result"
    }
   ],
   "source": [
    "data.loc[data['Elevation_random']>5850].shape"
   ]
  },
  {
   "cell_type": "code",
   "execution_count": 64,
   "id": "e8211b49",
   "metadata": {
    "execution": {
     "iopub.execute_input": "2023-10-07T13:02:59.220728Z",
     "iopub.status.busy": "2023-10-07T13:02:59.220313Z",
     "iopub.status.idle": "2023-10-07T13:02:59.226834Z",
     "shell.execute_reply": "2023-10-07T13:02:59.225657Z"
    },
    "papermill": {
     "duration": 0.03695,
     "end_time": "2023-10-07T13:02:59.229034",
     "exception": false,
     "start_time": "2023-10-07T13:02:59.192084",
     "status": "completed"
    },
    "tags": []
   },
   "outputs": [],
   "source": [
    "data.loc[data['Elevation_random']>5850,'Elevation_random'] = 5850"
   ]
  },
  {
   "cell_type": "code",
   "execution_count": 65,
   "id": "e35cb808",
   "metadata": {
    "execution": {
     "iopub.execute_input": "2023-10-07T13:02:59.283071Z",
     "iopub.status.busy": "2023-10-07T13:02:59.282135Z",
     "iopub.status.idle": "2023-10-07T13:02:59.563281Z",
     "shell.execute_reply": "2023-10-07T13:02:59.562148Z"
    },
    "papermill": {
     "duration": 0.310708,
     "end_time": "2023-10-07T13:02:59.565741",
     "exception": false,
     "start_time": "2023-10-07T13:02:59.255033",
     "status": "completed"
    },
    "tags": []
   },
   "outputs": [
    {
     "data": {
      "text/plain": [
       "<Axes: >"
      ]
     },
     "execution_count": 65,
     "metadata": {},
     "output_type": "execute_result"
    },
    {
     "data": {
      "image/png": "[encoded data removed]",
      "text/plain": [
       "<Figure size 640x480 with 1 Axes>"
      ]
     },
     "metadata": {},
     "output_type": "display_data"
    }
   ],
   "source": [
    "data.boxplot(column='Elevation_random')"
   ]
  },
  {
   "cell_type": "code",
   "execution_count": 66,
   "id": "38b92899",
   "metadata": {
    "execution": {
     "iopub.execute_input": "2023-10-07T13:02:59.619747Z",
     "iopub.status.busy": "2023-10-07T13:02:59.619393Z",
     "iopub.status.idle": "2023-10-07T13:03:00.245718Z",
     "shell.execute_reply": "2023-10-07T13:03:00.244258Z"
    },
    "papermill": {
     "duration": 0.656691,
     "end_time": "2023-10-07T13:03:00.248194",
     "exception": false,
     "start_time": "2023-10-07T13:02:59.591503",
     "status": "completed"
    },
    "tags": []
   },
   "outputs": [
    {
     "name": "stderr",
     "output_type": "stream",
     "text": [
      "/tmp/ipykernel_20/44423360.py:1: UserWarning:\n",
      "\n",
      "\n",
      "\n",
      "`distplot` is a deprecated function and will be removed in seaborn v0.14.0.\n",
      "\n",
      "Please adapt your code to use either `displot` (a figure-level function with\n",
      "similar flexibility) or `histplot` (an axes-level function for histograms).\n",
      "\n",
      "For a guide to updating your code to use the new functions, please see\n",
      "https://gist.github.com/mwaskom/de44147ed2974457ad6372750bbe5751\n",
      "\n",
      "\n"
     ]
    },
    {
     "data": {
      "image/png": "[encoded data removed]",
      "text/plain": [
       "<Figure size 640x480 with 1 Axes>"
      ]
     },
     "metadata": {},
     "output_type": "display_data"
    }
   ],
   "source": [
    "sns.distplot(data['Elevation_random'])\n",
    "plt.show()"
   ]
  },
  {
   "cell_type": "code",
   "execution_count": 67,
   "id": "b58c044f",
   "metadata": {
    "execution": {
     "iopub.execute_input": "2023-10-07T13:03:00.302507Z",
     "iopub.status.busy": "2023-10-07T13:03:00.302033Z",
     "iopub.status.idle": "2023-10-07T13:03:00.617523Z",
     "shell.execute_reply": "2023-10-07T13:03:00.616382Z"
    },
    "papermill": {
     "duration": 0.345416,
     "end_time": "2023-10-07T13:03:00.619805",
     "exception": false,
     "start_time": "2023-10-07T13:03:00.274389",
     "status": "completed"
    },
    "tags": []
   },
   "outputs": [
    {
     "data": {
      "text/plain": [
       "Text(0, 0.5, 'Height')"
      ]
     },
     "execution_count": 67,
     "metadata": {},
     "output_type": "execute_result"
    },
    {
     "data": {
      "image/png": "[encoded data removed]",
      "text/plain": [
       "<Figure size 640x480 with 1 Axes>"
      ]
     },
     "metadata": {},
     "output_type": "display_data"
    }
   ],
   "source": [
    "figure = data.Elevation_random.hist(bins=50)\n",
    "figure.set_title('Elevation')\n",
    "figure.set_xlabel('Elevation_random')\n",
    "figure.set_ylabel('Height')"
   ]
  },
  {
   "cell_type": "code",
   "execution_count": 68,
   "id": "6bb5a4bd",
   "metadata": {
    "execution": {
     "iopub.execute_input": "2023-10-07T13:03:00.675563Z",
     "iopub.status.busy": "2023-10-07T13:03:00.674974Z",
     "iopub.status.idle": "2023-10-07T13:03:00.679788Z",
     "shell.execute_reply": "2023-10-07T13:03:00.678988Z"
    },
    "papermill": {
     "duration": 0.034956,
     "end_time": "2023-10-07T13:03:00.681892",
     "exception": false,
     "start_time": "2023-10-07T13:03:00.646936",
     "status": "completed"
    },
    "tags": []
   },
   "outputs": [],
   "source": [
    "# to be countined"
   ]
  }
 ],
 "metadata": {
  "kernelspec": {
   "display_name": "Python 3",
   "language": "python",
   "name": "python3"
  },
  "language_info": {
   "codemirror_mode": {
    "name": "ipython",
    "version": 3
   },
   "file_extension": ".py",
   "mimetype": "text/x-python",
   "name": "python",
   "nbconvert_exporter": "python",
   "pygments_lexer": "ipython3",
   "version": "3.10.12"
  },
  "papermill": {
   "default_parameters": {},
   "duration": 27.177209,
   "end_time": "2023-10-07T13:03:01.732827",
   "environment_variables": {},
   "exception": null,
   "input_path": "__notebook__.ipynb",
   "output_path": "__notebook__.ipynb",
   "parameters": {},
   "start_time": "2023-10-07T13:02:34.555618",
   "version": "2.4.0"
  }
 },
 "nbformat": 4,
 "nbformat_minor": 5
}
